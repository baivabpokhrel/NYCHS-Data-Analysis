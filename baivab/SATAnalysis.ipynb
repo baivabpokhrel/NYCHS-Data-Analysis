{
 "cells": [
  {
   "cell_type": "code",
   "execution_count": 1,
   "metadata": {},
   "outputs": [],
   "source": [
    "import sys\n",
    "sys.path.append(\"..\")"
   ]
  },
  {
   "cell_type": "code",
   "execution_count": 2,
   "metadata": {},
   "outputs": [],
   "source": [
    "from datasets import *\n",
    "import pandas as pd\n",
    "import seaborn as sns\n",
    "import matplotlib.pyplot as plt\n",
    "#SAT_df=get_SATScores()\n",
    "#SAT_df=pd.read_csv('https://data.cityofnewyork.us/resource/rt5r-ie69.csv')\n",
    "#SAT_df.head()"
   ]
  },
  {
   "cell_type": "code",
   "execution_count": 3,
   "metadata": {},
   "outputs": [],
   "source": [
    "def get_SAT_by_District():\n",
    "    SAT_df=get_SATScores('2010')\n",
    "    SAT_df = SAT_df.dropna()\n",
    "    SAT_df.critical_reading_mean = SAT_df.critical_reading_mean.astype('int')\n",
    "    SAT_df.mathematics_mean= SAT_df.mathematics_mean.astype('int')\n",
    "    SAT_df.writing_mean = SAT_df.writing_mean.astype('int')\n",
    "    SAT_df.number_of_test_takers=SAT_df.number_of_test_takers.astype('int')\n",
    "    \n",
    "    SAT_df['combined_score'] = SAT_df['critical_reading_mean']+SAT_df['mathematics_mean']+SAT_df['writing_mean']\n",
    "\n",
    "\n",
    "    SAT_df = SAT_df[['dbn','school_name','combined_score','number_of_test_takers']]\n",
    "    \n",
    "    SAT_df['district']=SAT_df.dbn.str[:2]\n",
    "    \n",
    "    SAT_df = SAT_df[['district','school_name','combined_score','number_of_test_takers']]\n",
    "\n",
    "    SAT_DF=pd.DataFrame()\n",
    "    \n",
    "    SAT_DF['Total_Takers']=SAT_df.groupby('district')['number_of_test_takers'].sum()\n",
    "    \n",
    "    SAT_DF['Combined_SAT_scores']=SAT_df.groupby('district')['combined_score'].mean()\n",
    "    \n",
    "    SAT_DF['District']=SAT_DF.index\n",
    "    SAT_DF.District=SAT_DF.District.astype('int')\n",
    "\n",
    "    SAT_DF.reset_index(drop=True, inplace=True)\n",
    "    \n",
    "    SAT_DF = SAT_DF[['District','Total_Takers','Combined_SAT_scores']]\n",
    "    \n",
    "    return SAT_DF\n",
    "\n",
    "\n",
    "\n"
   ]
  },
  {
   "cell_type": "code",
   "execution_count": 4,
   "metadata": {},
   "outputs": [],
   "source": [
    "def get_SAT_by_District_2012():\n",
    "    SAT_df=get_SATScores('2012')\n",
    "    SAT_df = SAT_df[SAT_df.sat_critical_reading_avg_score != 's']\n",
    "    SAT_df.sat_critical_reading_avg_score = SAT_df.sat_critical_reading_avg_score.astype('int')\n",
    "    SAT_df.sat_math_avg_score= SAT_df.sat_math_avg_score.astype('int')\n",
    "    SAT_df.sat_writing_avg_score= SAT_df.sat_writing_avg_score.astype('int')\n",
    "    SAT_df.num_of_sat_test_takers=SAT_df.num_of_sat_test_takers.astype('int')\n",
    "    \n",
    "    SAT_df['combined_score'] = SAT_df['sat_critical_reading_avg_score']+SAT_df['sat_math_avg_score']+SAT_df['sat_writing_avg_score']\n",
    "\n",
    "\n",
    "    SAT_df = SAT_df[['dbn','school_name','combined_score','num_of_sat_test_takers']]\n",
    "    \n",
    "    SAT_df['district']=SAT_df.dbn.str[:2]\n",
    "    \n",
    "    SAT_df = SAT_df[['district','school_name','combined_score','num_of_sat_test_takers']]\n",
    "\n",
    "    SAT_DF=pd.DataFrame()\n",
    "    \n",
    "    SAT_DF['Total_Takers']=SAT_df.groupby('district')['num_of_sat_test_takers'].sum()\n",
    "    \n",
    "    SAT_DF['Combined_SAT_scores']=SAT_df.groupby('district')['combined_score'].mean()\n",
    "    \n",
    "    SAT_DF['District']=SAT_DF.index\n",
    "    SAT_DF.District=SAT_DF.District.astype('int')\n",
    "\n",
    "    SAT_DF.reset_index(drop=True, inplace=True)\n",
    "    \n",
    "    SAT_DF = SAT_DF[['District','Total_Takers','Combined_SAT_scores']]\n",
    "    \n",
    "    return SAT_DF\n",
    "\n",
    "\n",
    "\n"
   ]
  },
  {
   "cell_type": "code",
   "execution_count": 5,
   "metadata": {},
   "outputs": [],
   "source": [
    "def get_SAT_by_District_2015():\n",
    "    #SAT_df=get_SATScores('2012')\n",
    "    SAT_df=pd.read_csv('https://drive.google.com/uc?export=download&id=1v9R8nSZ5wnzFMt7i2AFk0qPw7tuPmXwZ')\n",
    "    SAT_df = SAT_df[['School ID','School Name','Average Score (SAT Math)','Average Score (SAT Reading)','Average Score (SAT Writing)']]\n",
    "    SAT_df.columns=['dbn','school_name','sat_math_avg_score','sat_critical_reading_avg_score','sat_writing_avg_score']\n",
    "    #SAT_df = SAT_df[SAT_df.sat_critical_reading_avg_score != 's']\n",
    "    SAT_df=SAT_df.dropna()\n",
    "    SAT_df.sat_critical_reading_avg_score = SAT_df.sat_critical_reading_avg_score.astype('int')\n",
    "    SAT_df.sat_math_avg_score= SAT_df.sat_math_avg_score.astype('int')\n",
    "    SAT_df.sat_writing_avg_score= SAT_df.sat_writing_avg_score.astype('int')\n",
    "    #SAT_df.num_of_sat_test_takers=SAT_df.num_of_sat_test_takers.astype('int')\n",
    "    \n",
    "    SAT_df['combined_score'] = SAT_df['sat_critical_reading_avg_score']+SAT_df['sat_math_avg_score']+SAT_df['sat_writing_avg_score']\n",
    "\n",
    "\n",
    "    SAT_df = SAT_df[['dbn','school_name','combined_score']]\n",
    "    \n",
    "    SAT_df['district']=SAT_df.dbn.str[:2]\n",
    "    \n",
    "    SAT_df = SAT_df[['district','school_name','combined_score']]\n",
    "\n",
    "    SAT_DF = pd.DataFrame()\n",
    "    \n",
    "    \n",
    "    SAT_DF['Combined_SAT_scores']=SAT_df.groupby('district')['combined_score'].mean()\n",
    "    \n",
    "    SAT_DF['District']=SAT_DF.index\n",
    "    SAT_DF.District=SAT_DF.District.astype('int')\n",
    "\n",
    "    SAT_DF.reset_index(drop=True, inplace=True)\n",
    "    \n",
    "    SAT_DF = SAT_DF[['District','Combined_SAT_scores']]\n",
    "    \n",
    "    return SAT_DF\n",
    "\n",
    "\n",
    "\n"
   ]
  },
  {
   "cell_type": "code",
   "execution_count": null,
   "metadata": {},
   "outputs": [],
   "source": []
  },
  {
   "cell_type": "code",
   "execution_count": 50,
   "metadata": {},
   "outputs": [],
   "source": [
    "SAT_df_2010=get_SAT_by_District()\n",
    "SAT_df_2010 = SAT_df_2010[SAT_df_2010.District < 75]\n"
   ]
  },
  {
   "cell_type": "code",
   "execution_count": 54,
   "metadata": {},
   "outputs": [],
   "source": [
    "SAT_df_2012=get_SAT_by_District_2012()\n",
    "SAT_df_2012 = SAT_df_2012[SAT_df_2012.District < 75]"
   ]
  },
  {
   "cell_type": "code",
   "execution_count": 8,
   "metadata": {},
   "outputs": [],
   "source": [
    "SAT_df_2015=get_SAT_by_District_2015()"
   ]
  },
  {
   "cell_type": "code",
   "execution_count": 57,
   "metadata": {},
   "outputs": [
    {
     "data": {
      "text/html": [
       "<div>\n",
       "<style scoped>\n",
       "    .dataframe tbody tr th:only-of-type {\n",
       "        vertical-align: middle;\n",
       "    }\n",
       "\n",
       "    .dataframe tbody tr th {\n",
       "        vertical-align: top;\n",
       "    }\n",
       "\n",
       "    .dataframe thead th {\n",
       "        text-align: right;\n",
       "    }\n",
       "</style>\n",
       "<table border=\"1\" class=\"dataframe\">\n",
       "  <thead>\n",
       "    <tr style=\"text-align: right;\">\n",
       "      <th></th>\n",
       "      <th>District</th>\n",
       "      <th>Total_Takers</th>\n",
       "      <th>Combined_SAT_scores</th>\n",
       "    </tr>\n",
       "  </thead>\n",
       "  <tbody>\n",
       "    <tr>\n",
       "      <th>0</th>\n",
       "      <td>1</td>\n",
       "      <td>560</td>\n",
       "      <td>1343.125000</td>\n",
       "    </tr>\n",
       "    <tr>\n",
       "      <th>1</th>\n",
       "      <td>2</td>\n",
       "      <td>5479</td>\n",
       "      <td>1282.035088</td>\n",
       "    </tr>\n",
       "    <tr>\n",
       "      <th>2</th>\n",
       "      <td>3</td>\n",
       "      <td>1393</td>\n",
       "      <td>1281.545455</td>\n",
       "    </tr>\n",
       "    <tr>\n",
       "      <th>3</th>\n",
       "      <td>4</td>\n",
       "      <td>589</td>\n",
       "      <td>1192.250000</td>\n",
       "    </tr>\n",
       "    <tr>\n",
       "      <th>4</th>\n",
       "      <td>5</td>\n",
       "      <td>560</td>\n",
       "      <td>1282.250000</td>\n",
       "    </tr>\n",
       "  </tbody>\n",
       "</table>\n",
       "</div>"
      ],
      "text/plain": [
       "   District  Total_Takers  Combined_SAT_scores\n",
       "0         1           560          1343.125000\n",
       "1         2          5479          1282.035088\n",
       "2         3          1393          1281.545455\n",
       "3         4           589          1192.250000\n",
       "4         5           560          1282.250000"
      ]
     },
     "execution_count": 57,
     "metadata": {},
     "output_type": "execute_result"
    }
   ],
   "source": [
    "SAT_df_2010.head()"
   ]
  },
  {
   "cell_type": "code",
   "execution_count": 58,
   "metadata": {},
   "outputs": [
    {
     "data": {
      "text/html": [
       "<div>\n",
       "<style scoped>\n",
       "    .dataframe tbody tr th:only-of-type {\n",
       "        vertical-align: middle;\n",
       "    }\n",
       "\n",
       "    .dataframe tbody tr th {\n",
       "        vertical-align: top;\n",
       "    }\n",
       "\n",
       "    .dataframe thead th {\n",
       "        text-align: right;\n",
       "    }\n",
       "</style>\n",
       "<table border=\"1\" class=\"dataframe\">\n",
       "  <thead>\n",
       "    <tr style=\"text-align: right;\">\n",
       "      <th></th>\n",
       "      <th>District</th>\n",
       "      <th>Total_Takers</th>\n",
       "      <th>Combined_SAT_scores</th>\n",
       "    </tr>\n",
       "  </thead>\n",
       "  <tbody>\n",
       "    <tr>\n",
       "      <th>0</th>\n",
       "      <td>1</td>\n",
       "      <td>660</td>\n",
       "      <td>1305.777778</td>\n",
       "    </tr>\n",
       "    <tr>\n",
       "      <th>1</th>\n",
       "      <td>2</td>\n",
       "      <td>6175</td>\n",
       "      <td>1284.862069</td>\n",
       "    </tr>\n",
       "    <tr>\n",
       "      <th>2</th>\n",
       "      <td>3</td>\n",
       "      <td>1414</td>\n",
       "      <td>1267.923077</td>\n",
       "    </tr>\n",
       "    <tr>\n",
       "      <th>3</th>\n",
       "      <td>4</td>\n",
       "      <td>696</td>\n",
       "      <td>1191.142857</td>\n",
       "    </tr>\n",
       "    <tr>\n",
       "      <th>4</th>\n",
       "      <td>5</td>\n",
       "      <td>634</td>\n",
       "      <td>1218.222222</td>\n",
       "    </tr>\n",
       "  </tbody>\n",
       "</table>\n",
       "</div>"
      ],
      "text/plain": [
       "   District  Total_Takers  Combined_SAT_scores\n",
       "0         1           660          1305.777778\n",
       "1         2          6175          1284.862069\n",
       "2         3          1414          1267.923077\n",
       "3         4           696          1191.142857\n",
       "4         5           634          1218.222222"
      ]
     },
     "execution_count": 58,
     "metadata": {},
     "output_type": "execute_result"
    }
   ],
   "source": [
    "SAT_df_2012.head()"
   ]
  },
  {
   "cell_type": "code",
   "execution_count": 59,
   "metadata": {},
   "outputs": [
    {
     "data": {
      "text/html": [
       "<div>\n",
       "<style scoped>\n",
       "    .dataframe tbody tr th:only-of-type {\n",
       "        vertical-align: middle;\n",
       "    }\n",
       "\n",
       "    .dataframe tbody tr th {\n",
       "        vertical-align: top;\n",
       "    }\n",
       "\n",
       "    .dataframe thead th {\n",
       "        text-align: right;\n",
       "    }\n",
       "</style>\n",
       "<table border=\"1\" class=\"dataframe\">\n",
       "  <thead>\n",
       "    <tr style=\"text-align: right;\">\n",
       "      <th></th>\n",
       "      <th>District</th>\n",
       "      <th>Combined_SAT_scores</th>\n",
       "    </tr>\n",
       "  </thead>\n",
       "  <tbody>\n",
       "    <tr>\n",
       "      <th>0</th>\n",
       "      <td>1</td>\n",
       "      <td>1447.666667</td>\n",
       "    </tr>\n",
       "    <tr>\n",
       "      <th>1</th>\n",
       "      <td>2</td>\n",
       "      <td>1346.163265</td>\n",
       "    </tr>\n",
       "    <tr>\n",
       "      <th>2</th>\n",
       "      <td>3</td>\n",
       "      <td>1350.083333</td>\n",
       "    </tr>\n",
       "    <tr>\n",
       "      <th>3</th>\n",
       "      <td>4</td>\n",
       "      <td>1312.000000</td>\n",
       "    </tr>\n",
       "    <tr>\n",
       "      <th>4</th>\n",
       "      <td>5</td>\n",
       "      <td>1382.571429</td>\n",
       "    </tr>\n",
       "  </tbody>\n",
       "</table>\n",
       "</div>"
      ],
      "text/plain": [
       "   District  Combined_SAT_scores\n",
       "0         1          1447.666667\n",
       "1         2          1346.163265\n",
       "2         3          1350.083333\n",
       "3         4          1312.000000\n",
       "4         5          1382.571429"
      ]
     },
     "execution_count": 59,
     "metadata": {},
     "output_type": "execute_result"
    }
   ],
   "source": [
    "SAT_df_2015.head()"
   ]
  },
  {
   "cell_type": "code",
   "execution_count": 28,
   "metadata": {},
   "outputs": [
    {
     "data": {
      "image/png": "[encoded data removed]",
      "text/plain": [
       "<Figure size 432x288 with 1 Axes>"
      ]
     },
     "metadata": {
      "needs_background": "light"
     },
     "output_type": "display_data"
    },
    {
     "data": {
      "image/png": "[encoded data removed]",
      "text/plain": [
       "<Figure size 432x288 with 1 Axes>"
      ]
     },
     "metadata": {
      "needs_background": "light"
     },
     "output_type": "display_data"
    },
    {
     "data": {
      "image/png": "[encoded data removed]",
      "text/plain": [
       "<Figure size 432x288 with 1 Axes>"
      ]
     },
     "metadata": {
      "needs_background": "light"
     },
     "output_type": "display_data"
    }
   ],
   "source": [
    "\n",
    "sns.barplot(x=SAT_df_2010.District, y=SAT_df_2010.Combined_SAT_scores)\n",
    "\n",
    "plt.xlabel('District Number', fontsize=5)\n",
    "plt.ylabel('SAT scores', fontsize=5)\n",
    "plt.title('SAT score distribution over NYC districts for 2010')\n",
    "plt.show()\n",
    "\n",
    "sns.barplot(x=SAT_df_2012.District, y=SAT_df_2012.Combined_SAT_scores)\n",
    "\n",
    "plt.xlabel('District Number', fontsize=5)\n",
    "plt.ylabel('SAT scores', fontsize=5)\n",
    "plt.title('SAT score distribution over NYC districts for 2012')\n",
    "plt.show()\n",
    "\n",
    "sns.barplot(x=SAT_df_2015.District, y=SAT_df_2015.Combined_SAT_scores)\n",
    "\n",
    "plt.xlabel('District Number', fontsize=5)\n",
    "plt.ylabel('SAT scores', fontsize=5)\n",
    "plt.title('SAT score distribution over NYC districts for 2015')\n",
    "plt.show()"
   ]
  },
  {
   "cell_type": "code",
   "execution_count": 80,
   "metadata": {},
   "outputs": [],
   "source": [
    "SAT_df_2010 = SAT_df_2010.sort_values(['Combined_SAT_scores'],ascending=False)\n",
    "SAT_df_2012 = SAT_df_2012.sort_values(['Combined_SAT_scores'],ascending=False)\n",
    "SAT_df_2015 = SAT_df_2015.sort_values(['Combined_SAT_scores'],ascending=False)\n"
   ]
  },
  {
   "cell_type": "code",
   "execution_count": 92,
   "metadata": {},
   "outputs": [
    {
     "data": {
      "image/png": "[encoded data removed]",
      "text/plain": [
       "<Figure size 432x288 with 1 Axes>"
      ]
     },
     "metadata": {
      "needs_background": "light"
     },
     "output_type": "display_data"
    },
    {
     "data": {
      "image/png": "[encoded data removed]",
      "text/plain": [
       "<Figure size 432x288 with 1 Axes>"
      ]
     },
     "metadata": {
      "needs_background": "light"
     },
     "output_type": "display_data"
    },
    {
     "data": {
      "image/png": "[encoded data removed]",
      "text/plain": [
       "<Figure size 432x288 with 1 Axes>"
      ]
     },
     "metadata": {
      "needs_background": "light"
     },
     "output_type": "display_data"
    }
   ],
   "source": [
    "sns.boxplot(x=SAT_df_2010[\"Combined_SAT_scores\"])\n",
    "plt.title('SAT score for 2010')\n",
    "plt.show() \n",
    "\n",
    "sns.boxplot(x=SAT_df_2012[\"Combined_SAT_scores\"])\n",
    "plt.title('SAT score for 2012')\n",
    "plt.show() \n",
    "\n",
    "sns.boxplot(x=SAT_df_2015[\"Combined_SAT_scores\"])\n",
    "plt.title('SAT score for 2015')\n",
    "plt.show() \n"
   ]
  },
  {
   "cell_type": "code",
   "execution_count": 93,
   "metadata": {},
   "outputs": [
    {
     "data": {
      "image/png": "[encoded data removed]",
      "text/plain": [
       "<Figure size 432x288 with 1 Axes>"
      ]
     },
     "metadata": {
      "needs_background": "light"
     },
     "output_type": "display_data"
    },
    {
     "data": {
      "image/png": "[encoded data removed]",
      "text/plain": [
       "<Figure size 432x288 with 1 Axes>"
      ]
     },
     "metadata": {
      "needs_background": "light"
     },
     "output_type": "display_data"
    },
    {
     "data": {
      "image/png": "[encoded data removed]",
      "text/plain": [
       "<Figure size 432x288 with 1 Axes>"
      ]
     },
     "metadata": {
      "needs_background": "light"
     },
     "output_type": "display_data"
    }
   ],
   "source": [
    "\n",
    "sns.barplot(x=SAT_df_2010.District[:5], y=SAT_df_2010.Combined_SAT_scores[:5],order=SAT_df_2010.District[:5])\n",
    "\n",
    "plt.xlabel('District Number', fontsize=5)\n",
    "plt.ylabel('SAT scores', fontsize=5)\n",
    "plt.title('SAT score for Top 5 Districts for 2010')\n",
    "plt.show()\n",
    "\n",
    "sns.barplot(x=SAT_df_2012.District[:5], y=SAT_df_2012.Combined_SAT_scores[:5],order=SAT_df_2012.District[:5])\n",
    "\n",
    "plt.xlabel('District Number', fontsize=5)\n",
    "plt.ylabel('SAT scores', fontsize=5)\n",
    "plt.title('SAT score for Top 5 Districts for 2012')\n",
    "plt.show()\n",
    "\n",
    "sns.barplot(x=SAT_df_2015.District[:5], y=SAT_df_2015.Combined_SAT_scores[:5],order=SAT_df_2015.District[:5])\n",
    "\n",
    "plt.xlabel('District Number', fontsize=5)\n",
    "plt.ylabel('SAT scores', fontsize=5)\n",
    "plt.title('SAT score for Top 5 Districts for 2015')\n",
    "plt.show()"
   ]
  },
  {
   "cell_type": "code",
   "execution_count": 15,
   "metadata": {},
   "outputs": [
    {
     "name": "stdout",
     "output_type": "stream",
     "text": [
      "District                 22.0\n",
      "Total_Takers           1906.0\n",
      "Combined_SAT_scores    1424.0\n",
      "Name: 21, dtype: float64\n"
     ]
    }
   ],
   "source": [
    "print(SAT_df_2010.loc[SAT_df_2010['Combined_SAT_scores'].idxmax()])"
   ]
  },
  {
   "cell_type": "code",
   "execution_count": 16,
   "metadata": {},
   "outputs": [
    {
     "name": "stdout",
     "output_type": "stream",
     "text": [
      "District                 22.0\n",
      "Total_Takers           1968.0\n",
      "Combined_SAT_scores    1389.4\n",
      "Name: 21, dtype: float64\n"
     ]
    }
   ],
   "source": [
    "print(SAT_df_2012.loc[SAT_df_2012['Combined_SAT_scores'].idxmax()])"
   ]
  },
  {
   "cell_type": "code",
   "execution_count": 17,
   "metadata": {},
   "outputs": [
    {
     "name": "stdout",
     "output_type": "stream",
     "text": [
      "District                 22.0\n",
      "Combined_SAT_scores    1524.0\n",
      "Name: 21, dtype: float64\n"
     ]
    }
   ],
   "source": [
    "print(SAT_df_2015.loc[SAT_df_2015['Combined_SAT_scores'].idxmax()])"
   ]
  },
  {
   "cell_type": "code",
   "execution_count": 18,
   "metadata": {},
   "outputs": [
    {
     "name": "stdout",
     "output_type": "stream",
     "text": [
      "District                 18.0\n",
      "Total_Takers            243.0\n",
      "Combined_SAT_scores    1075.2\n",
      "Name: 17, dtype: float64\n"
     ]
    }
   ],
   "source": [
    "print(SAT_df_2010.loc[SAT_df_2010['Combined_SAT_scores'].idxmin()])"
   ]
  },
  {
   "cell_type": "code",
   "execution_count": 19,
   "metadata": {},
   "outputs": [
    {
     "name": "stdout",
     "output_type": "stream",
     "text": [
      "District                 23.000000\n",
      "Total_Takers            219.000000\n",
      "Combined_SAT_scores    1085.166667\n",
      "Name: 22, dtype: float64\n"
     ]
    }
   ],
   "source": [
    "print(SAT_df_2012.loc[SAT_df_2012['Combined_SAT_scores'].idxmin()])"
   ]
  },
  {
   "cell_type": "code",
   "execution_count": 20,
   "metadata": {},
   "outputs": [
    {
     "name": "stdout",
     "output_type": "stream",
     "text": [
      "District                 19.000000\n",
      "Combined_SAT_scores    1129.076923\n",
      "Name: 18, dtype: float64\n"
     ]
    }
   ],
   "source": [
    "print(SAT_df_2015.loc[SAT_df_2015['Combined_SAT_scores'].idxmin()])"
   ]
  },
  {
   "cell_type": "code",
   "execution_count": null,
   "metadata": {},
   "outputs": [],
   "source": []
  }
 ],
 "metadata": {
  "kernelspec": {
   "display_name": "Python 3",
   "language": "python",
   "name": "python3"
  },
  "language_info": {
   "codemirror_mode": {
    "name": "ipython",
    "version": 3
   },
   "file_extension": ".py",
   "mimetype": "text/x-python",
   "name": "python",
   "nbconvert_exporter": "python",
   "pygments_lexer": "ipython3",
   "version": "3.7.1"
  }
 },
 "nbformat": 4,
 "nbformat_minor": 2
}
