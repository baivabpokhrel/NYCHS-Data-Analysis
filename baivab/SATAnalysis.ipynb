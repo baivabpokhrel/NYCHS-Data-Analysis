{
 "cells": [
  {
   "cell_type": "code",
   "execution_count": 283,
   "metadata": {},
   "outputs": [],
   "source": [
    "import sys\n",
    "sys.path.append(\"..\")"
   ]
  },
  {
   "cell_type": "code",
   "execution_count": 284,
   "metadata": {},
   "outputs": [
    {
     "data": {
      "text/html": [
       "<div>\n",
       "<style scoped>\n",
       "    .dataframe tbody tr th:only-of-type {\n",
       "        vertical-align: middle;\n",
       "    }\n",
       "\n",
       "    .dataframe tbody tr th {\n",
       "        vertical-align: top;\n",
       "    }\n",
       "\n",
       "    .dataframe thead th {\n",
       "        text-align: right;\n",
       "    }\n",
       "</style>\n",
       "<table border=\"1\" class=\"dataframe\">\n",
       "  <thead>\n",
       "    <tr style=\"text-align: right;\">\n",
       "      <th></th>\n",
       "      <th>critical_reading_mean</th>\n",
       "      <th>dbn</th>\n",
       "      <th>mathematics_mean</th>\n",
       "      <th>number_of_test_takers</th>\n",
       "      <th>school_name</th>\n",
       "      <th>writing_mean</th>\n",
       "    </tr>\n",
       "  </thead>\n",
       "  <tbody>\n",
       "    <tr>\n",
       "      <th>0</th>\n",
       "      <td>391.0</td>\n",
       "      <td>01M292</td>\n",
       "      <td>425.0</td>\n",
       "      <td>31.0</td>\n",
       "      <td>Henry Street School for International Studies</td>\n",
       "      <td>385.0</td>\n",
       "    </tr>\n",
       "    <tr>\n",
       "      <th>1</th>\n",
       "      <td>394.0</td>\n",
       "      <td>01M448</td>\n",
       "      <td>419.0</td>\n",
       "      <td>60.0</td>\n",
       "      <td>University Neighborhood High School</td>\n",
       "      <td>387.0</td>\n",
       "    </tr>\n",
       "    <tr>\n",
       "      <th>2</th>\n",
       "      <td>418.0</td>\n",
       "      <td>01M450</td>\n",
       "      <td>431.0</td>\n",
       "      <td>69.0</td>\n",
       "      <td>East Side Community High School</td>\n",
       "      <td>402.0</td>\n",
       "    </tr>\n",
       "    <tr>\n",
       "      <th>3</th>\n",
       "      <td>385.0</td>\n",
       "      <td>01M458</td>\n",
       "      <td>370.0</td>\n",
       "      <td>26.0</td>\n",
       "      <td>SATELLITE ACADEMY FORSYTH ST</td>\n",
       "      <td>378.0</td>\n",
       "    </tr>\n",
       "    <tr>\n",
       "      <th>4</th>\n",
       "      <td>NaN</td>\n",
       "      <td>01M509</td>\n",
       "      <td>NaN</td>\n",
       "      <td>NaN</td>\n",
       "      <td>CMSP HIGH SCHOOL</td>\n",
       "      <td>NaN</td>\n",
       "    </tr>\n",
       "  </tbody>\n",
       "</table>\n",
       "</div>"
      ],
      "text/plain": [
       "   critical_reading_mean     dbn  mathematics_mean  number_of_test_takers  \\\n",
       "0                  391.0  01M292             425.0                   31.0   \n",
       "1                  394.0  01M448             419.0                   60.0   \n",
       "2                  418.0  01M450             431.0                   69.0   \n",
       "3                  385.0  01M458             370.0                   26.0   \n",
       "4                    NaN  01M509               NaN                    NaN   \n",
       "\n",
       "                                      school_name  writing_mean  \n",
       "0  Henry Street School for International Studies          385.0  \n",
       "1            University Neighborhood High School          387.0  \n",
       "2                East Side Community High School          402.0  \n",
       "3                   SATELLITE ACADEMY FORSYTH ST          378.0  \n",
       "4                               CMSP HIGH SCHOOL            NaN  "
      ]
     },
     "execution_count": 284,
     "metadata": {},
     "output_type": "execute_result"
    }
   ],
   "source": [
    "from datasets import *\n",
    "import pandas as pd\n",
    "import seaborn as sns\n",
    "import matplotlib.pyplot as plt\n",
    "#SAT_df=get_SATScores()\n",
    "SAT_df=pd.read_csv('https://data.cityofnewyork.us/resource/rt5r-ie69.csv')\n",
    "SAT_df.head()"
   ]
  },
  {
   "cell_type": "code",
   "execution_count": 285,
   "metadata": {},
   "outputs": [],
   "source": [
    "def get_SAT_by_District():\n",
    "    SAT_df=pd.read_csv('https://data.cityofnewyork.us/resource/rt5r-ie69.csv')\n",
    "    SAT_df = SAT_df.dropna()\n",
    "    SAT_df.critical_reading_mean = SAT_df.critical_reading_mean.astype('int')\n",
    "    SAT_df.mathematics_mean= SAT_df.mathematics_mean.astype('int')\n",
    "    SAT_df.writing_mean = SAT_df.writing_mean.astype('int')\n",
    "    SAT_df.number_of_test_takers=SAT_df.number_of_test_takers.astype('int')\n",
    "    \n",
    "    SAT_df['combined_score'] = SAT_df['critical_reading_mean']+SAT_df['mathematics_mean']+SAT_df['writing_mean']\n",
    "\n",
    "\n",
    "    SAT_df = SAT_df[['dbn','school_name','combined_score','number_of_test_takers']]\n",
    "    \n",
    "    SAT_df['district']=SAT_df.dbn.str[:2]\n",
    "    \n",
    "    SAT_df = SAT_df[['district','school_name','combined_score','number_of_test_takers']]\n",
    "\n",
    "    SAT_DF=pd.DataFrame()\n",
    "    \n",
    "    SAT_DF['Total_Takers']=SAT_df.groupby('district')['number_of_test_takers'].sum()\n",
    "    \n",
    "    SAT_DF['Combined_SAT_scores']=SAT_df.groupby('district')['combined_score'].mean()\n",
    "    \n",
    "    SAT_DF['District']=SAT_DF.index\n",
    "    SAT_DF.District=SAT_DF.District.astype('int')\n",
    "\n",
    "    SAT_DF.reset_index(drop=True, inplace=True)\n",
    "    \n",
    "    SAT_DF = SAT_DF[['District','Total_Takers','Combined_SAT_scores']]\n",
    "    \n",
    "    return SAT_DF\n",
    "\n",
    "\n",
    "\n"
   ]
  },
  {
   "cell_type": "code",
   "execution_count": 286,
   "metadata": {},
   "outputs": [],
   "source": [
    "SAT_df=get_SAT_by_District()"
   ]
  },
  {
   "cell_type": "code",
   "execution_count": 287,
   "metadata": {},
   "outputs": [
    {
     "data": {
      "text/html": [
       "<div>\n",
       "<style scoped>\n",
       "    .dataframe tbody tr th:only-of-type {\n",
       "        vertical-align: middle;\n",
       "    }\n",
       "\n",
       "    .dataframe tbody tr th {\n",
       "        vertical-align: top;\n",
       "    }\n",
       "\n",
       "    .dataframe thead th {\n",
       "        text-align: right;\n",
       "    }\n",
       "</style>\n",
       "<table border=\"1\" class=\"dataframe\">\n",
       "  <thead>\n",
       "    <tr style=\"text-align: right;\">\n",
       "      <th></th>\n",
       "      <th>District</th>\n",
       "      <th>Total_Takers</th>\n",
       "      <th>Combined_SAT_scores</th>\n",
       "    </tr>\n",
       "  </thead>\n",
       "  <tbody>\n",
       "    <tr>\n",
       "      <th>0</th>\n",
       "      <td>1</td>\n",
       "      <td>560</td>\n",
       "      <td>1343.125000</td>\n",
       "    </tr>\n",
       "    <tr>\n",
       "      <th>1</th>\n",
       "      <td>2</td>\n",
       "      <td>5479</td>\n",
       "      <td>1282.035088</td>\n",
       "    </tr>\n",
       "    <tr>\n",
       "      <th>2</th>\n",
       "      <td>3</td>\n",
       "      <td>1393</td>\n",
       "      <td>1281.545455</td>\n",
       "    </tr>\n",
       "    <tr>\n",
       "      <th>3</th>\n",
       "      <td>4</td>\n",
       "      <td>589</td>\n",
       "      <td>1192.250000</td>\n",
       "    </tr>\n",
       "    <tr>\n",
       "      <th>4</th>\n",
       "      <td>5</td>\n",
       "      <td>560</td>\n",
       "      <td>1282.250000</td>\n",
       "    </tr>\n",
       "  </tbody>\n",
       "</table>\n",
       "</div>"
      ],
      "text/plain": [
       "   District  Total_Takers  Combined_SAT_scores\n",
       "0         1           560          1343.125000\n",
       "1         2          5479          1282.035088\n",
       "2         3          1393          1281.545455\n",
       "3         4           589          1192.250000\n",
       "4         5           560          1282.250000"
      ]
     },
     "execution_count": 287,
     "metadata": {},
     "output_type": "execute_result"
    }
   ],
   "source": [
    "SAT_df.head()"
   ]
  },
  {
   "cell_type": "code",
   "execution_count": 288,
   "metadata": {},
   "outputs": [
    {
     "data": {
      "image/png": "[encoded data removed]",
      "text/plain": [
       "<Figure size 432x288 with 1 Axes>"
      ]
     },
     "metadata": {
      "needs_background": "light"
     },
     "output_type": "display_data"
    }
   ],
   "source": [
    "\n",
    "sns.barplot(x=SAT_df.District, y=SAT_df.Combined_SAT_scores)\n",
    "\n",
    "plt.xlabel('District Number', fontsize=5)\n",
    "plt.ylabel('SAT scores', fontsize=5)\n",
    "plt.title('SAT score distribution over NYC districts')\n",
    "plt.show()"
   ]
  },
  {
   "cell_type": "code",
   "execution_count": 289,
   "metadata": {},
   "outputs": [
    {
     "name": "stdout",
     "output_type": "stream",
     "text": [
      "District                 22.0\n",
      "Total_Takers           1906.0\n",
      "Combined_SAT_scores    1424.0\n",
      "Name: 21, dtype: float64\n"
     ]
    }
   ],
   "source": [
    "print(SAT_df.loc[SAT_df['Combined_SAT_scores'].idxmax()])"
   ]
  },
  {
   "cell_type": "code",
   "execution_count": 290,
   "metadata": {},
   "outputs": [
    {
     "data": {
      "text/plain": [
       "['MIDWOOD HIGH SCHOOL',\n",
       " 'JAMES MADISON HIGH SCHOOL',\n",
       " 'SHEEPSHEAD BAY HIGH SCHOOL',\n",
       " 'LEON M. GOLDSTEIN HIGH SCHOOL FOR THE SCIENCES',\n",
       " 'BROOKLYN COLLEGE ACADEMY']"
      ]
     },
     "execution_count": 290,
     "metadata": {},
     "output_type": "execute_result"
    }
   ],
   "source": [
    "get_SchoolsByDistrict(22)"
   ]
  },
  {
   "cell_type": "code",
   "execution_count": 291,
   "metadata": {},
   "outputs": [
    {
     "name": "stdout",
     "output_type": "stream",
     "text": [
      "District                 18.0\n",
      "Total_Takers            243.0\n",
      "Combined_SAT_scores    1075.2\n",
      "Name: 17, dtype: float64\n"
     ]
    }
   ],
   "source": [
    "print(SAT_df.loc[SAT_df['Combined_SAT_scores'].idxmin()])"
   ]
  },
  {
   "cell_type": "code",
   "execution_count": 292,
   "metadata": {},
   "outputs": [
    {
     "data": {
      "text/plain": [
       "['IT TAKES A VILLAGE ACADEMY',\n",
       " 'BROOKLYN GENERATION SCHOOL',\n",
       " 'BROOKLYN THEATRE ARTS HIGH SCHOOL',\n",
       " 'KURT HAHN EXPEDITIONARY LEARNING SCHOOL',\n",
       " 'VICTORY COLLEGIATE HIGH SCHOOL',\n",
       " 'BROOKLYN BRIDGE ACADEMY',\n",
       " 'ARTS & MEDIA PREPARATORY ACADEMY',\n",
       " 'HIGH SCHOOL FOR INNOVATION IN ADVERTISING AND MEDIA',\n",
       " 'CULTURAL ACADEMY FOR THE ARTS AND SCIENCES',\n",
       " 'HIGH SCHOOL FOR MEDICAL PROFESSIONS',\n",
       " 'OLYMPUS ACADEMY',\n",
       " 'ACADEMY FOR CONSERVATION AND THE ENVIRONMENT',\n",
       " 'URBAN ACTION ACADEMY',\n",
       " 'EAST BROOKLYN COMMUNITY HIGH SCHOOL']"
      ]
     },
     "execution_count": 292,
     "metadata": {},
     "output_type": "execute_result"
    }
   ],
   "source": [
    "get_SchoolsByDistrict(18)"
   ]
  },
  {
   "cell_type": "code",
   "execution_count": null,
   "metadata": {},
   "outputs": [],
   "source": []
  }
 ],
 "metadata": {
  "kernelspec": {
   "display_name": "Python 3",
   "language": "python",
   "name": "python3"
  },
  "language_info": {
   "codemirror_mode": {
    "name": "ipython",
    "version": 3
   },
   "file_extension": ".py",
   "mimetype": "text/x-python",
   "name": "python",
   "nbconvert_exporter": "python",
   "pygments_lexer": "ipython3",
   "version": "3.7.1"
  }
 },
 "nbformat": 4,
 "nbformat_minor": 2
}
