{
 "cells": [
  {
   "cell_type": "code",
   "execution_count": 17,
   "metadata": {},
   "outputs": [],
   "source": [
    "import sys\n",
    "sys.path.append(\"..\")"
   ]
  },
  {
   "cell_type": "code",
   "execution_count": 18,
   "metadata": {},
   "outputs": [
    {
     "data": {
      "text/html": [
       "<div>\n",
       "<style scoped>\n",
       "    .dataframe tbody tr th:only-of-type {\n",
       "        vertical-align: middle;\n",
       "    }\n",
       "\n",
       "    .dataframe tbody tr th {\n",
       "        vertical-align: top;\n",
       "    }\n",
       "\n",
       "    .dataframe thead th {\n",
       "        text-align: right;\n",
       "    }\n",
       "</style>\n",
       "<table border=\"1\" class=\"dataframe\">\n",
       "  <thead>\n",
       "    <tr style=\"text-align: right;\">\n",
       "      <th></th>\n",
       "      <th>critical_reading_mean</th>\n",
       "      <th>dbn</th>\n",
       "      <th>mathematics_mean</th>\n",
       "      <th>number_of_test_takers</th>\n",
       "      <th>school_name</th>\n",
       "      <th>writing_mean</th>\n",
       "    </tr>\n",
       "  </thead>\n",
       "  <tbody>\n",
       "    <tr>\n",
       "      <th>0</th>\n",
       "      <td>391.0</td>\n",
       "      <td>01M292</td>\n",
       "      <td>425.0</td>\n",
       "      <td>31.0</td>\n",
       "      <td>Henry Street School for International Studies</td>\n",
       "      <td>385.0</td>\n",
       "    </tr>\n",
       "    <tr>\n",
       "      <th>1</th>\n",
       "      <td>394.0</td>\n",
       "      <td>01M448</td>\n",
       "      <td>419.0</td>\n",
       "      <td>60.0</td>\n",
       "      <td>University Neighborhood High School</td>\n",
       "      <td>387.0</td>\n",
       "    </tr>\n",
       "    <tr>\n",
       "      <th>2</th>\n",
       "      <td>418.0</td>\n",
       "      <td>01M450</td>\n",
       "      <td>431.0</td>\n",
       "      <td>69.0</td>\n",
       "      <td>East Side Community High School</td>\n",
       "      <td>402.0</td>\n",
       "    </tr>\n",
       "    <tr>\n",
       "      <th>3</th>\n",
       "      <td>385.0</td>\n",
       "      <td>01M458</td>\n",
       "      <td>370.0</td>\n",
       "      <td>26.0</td>\n",
       "      <td>SATELLITE ACADEMY FORSYTH ST</td>\n",
       "      <td>378.0</td>\n",
       "    </tr>\n",
       "    <tr>\n",
       "      <th>4</th>\n",
       "      <td>NaN</td>\n",
       "      <td>01M509</td>\n",
       "      <td>NaN</td>\n",
       "      <td>NaN</td>\n",
       "      <td>CMSP HIGH SCHOOL</td>\n",
       "      <td>NaN</td>\n",
       "    </tr>\n",
       "  </tbody>\n",
       "</table>\n",
       "</div>"
      ],
      "text/plain": [
       "   critical_reading_mean     dbn  mathematics_mean  number_of_test_takers  \\\n",
       "0                  391.0  01M292             425.0                   31.0   \n",
       "1                  394.0  01M448             419.0                   60.0   \n",
       "2                  418.0  01M450             431.0                   69.0   \n",
       "3                  385.0  01M458             370.0                   26.0   \n",
       "4                    NaN  01M509               NaN                    NaN   \n",
       "\n",
       "                                      school_name  writing_mean  \n",
       "0  Henry Street School for International Studies          385.0  \n",
       "1            University Neighborhood High School          387.0  \n",
       "2                East Side Community High School          402.0  \n",
       "3                   SATELLITE ACADEMY FORSYTH ST          378.0  \n",
       "4                               CMSP HIGH SCHOOL            NaN  "
      ]
     },
     "execution_count": 18,
     "metadata": {},
     "output_type": "execute_result"
    }
   ],
   "source": [
    "from datasets import *\n",
    "import pandas as pd\n",
    "import seaborn as sns\n",
    "import matplotlib.pyplot as plt\n",
    "#SAT_df=get_SATScores()\n",
    "SAT_df=pd.read_csv('https://data.cityofnewyork.us/resource/rt5r-ie69.csv')\n",
    "SAT_df.head()"
   ]
  },
  {
   "cell_type": "code",
   "execution_count": 19,
   "metadata": {},
   "outputs": [
    {
     "data": {
      "text/html": [
       "<div>\n",
       "<style scoped>\n",
       "    .dataframe tbody tr th:only-of-type {\n",
       "        vertical-align: middle;\n",
       "    }\n",
       "\n",
       "    .dataframe tbody tr th {\n",
       "        vertical-align: top;\n",
       "    }\n",
       "\n",
       "    .dataframe thead th {\n",
       "        text-align: right;\n",
       "    }\n",
       "</style>\n",
       "<table border=\"1\" class=\"dataframe\">\n",
       "  <thead>\n",
       "    <tr style=\"text-align: right;\">\n",
       "      <th></th>\n",
       "      <th>critical_reading_mean</th>\n",
       "      <th>dbn</th>\n",
       "      <th>mathematics_mean</th>\n",
       "      <th>number_of_test_takers</th>\n",
       "      <th>school_name</th>\n",
       "      <th>writing_mean</th>\n",
       "    </tr>\n",
       "  </thead>\n",
       "  <tbody>\n",
       "    <tr>\n",
       "      <th>305</th>\n",
       "      <td>400.0</td>\n",
       "      <td>25Q540</td>\n",
       "      <td>395.0</td>\n",
       "      <td>22.0</td>\n",
       "      <td>QUEENS ACADEMY</td>\n",
       "      <td>391.0</td>\n",
       "    </tr>\n",
       "  </tbody>\n",
       "</table>\n",
       "</div>"
      ],
      "text/plain": [
       "     critical_reading_mean     dbn  mathematics_mean  number_of_test_takers  \\\n",
       "305                  400.0  25Q540             395.0                   22.0   \n",
       "\n",
       "         school_name  writing_mean  \n",
       "305  QUEENS ACADEMY          391.0  "
      ]
     },
     "execution_count": 19,
     "metadata": {},
     "output_type": "execute_result"
    }
   ],
   "source": [
    "SAT_df.loc[SAT_df.dbn=='25Q540']\n",
    "\n"
   ]
  },
  {
   "cell_type": "code",
   "execution_count": 20,
   "metadata": {},
   "outputs": [],
   "source": [
    "## removing this index specifcally because it was in between \n",
    "\n",
    "SAT_df=SAT_df.drop([305],axis=0)"
   ]
  },
  {
   "cell_type": "code",
   "execution_count": 21,
   "metadata": {},
   "outputs": [],
   "source": [
    "SAT_df = SAT_df.dropna()\n"
   ]
  },
  {
   "cell_type": "code",
   "execution_count": 22,
   "metadata": {},
   "outputs": [],
   "source": [
    "SAT_df=SAT_df.reset_index()\n"
   ]
  },
  {
   "cell_type": "code",
   "execution_count": 23,
   "metadata": {},
   "outputs": [
    {
     "data": {
      "text/plain": [
       "(385, 7)"
      ]
     },
     "execution_count": 23,
     "metadata": {},
     "output_type": "execute_result"
    }
   ],
   "source": [
    "SAT_df.shape"
   ]
  },
  {
   "cell_type": "code",
   "execution_count": 24,
   "metadata": {},
   "outputs": [
    {
     "data": {
      "text/html": [
       "<div>\n",
       "<style scoped>\n",
       "    .dataframe tbody tr th:only-of-type {\n",
       "        vertical-align: middle;\n",
       "    }\n",
       "\n",
       "    .dataframe tbody tr th {\n",
       "        vertical-align: top;\n",
       "    }\n",
       "\n",
       "    .dataframe thead th {\n",
       "        text-align: right;\n",
       "    }\n",
       "</style>\n",
       "<table border=\"1\" class=\"dataframe\">\n",
       "  <thead>\n",
       "    <tr style=\"text-align: right;\">\n",
       "      <th></th>\n",
       "      <th>index</th>\n",
       "      <th>critical_reading_mean</th>\n",
       "      <th>dbn</th>\n",
       "      <th>mathematics_mean</th>\n",
       "      <th>number_of_test_takers</th>\n",
       "      <th>school_name</th>\n",
       "      <th>writing_mean</th>\n",
       "    </tr>\n",
       "  </thead>\n",
       "  <tbody>\n",
       "    <tr>\n",
       "      <th>0</th>\n",
       "      <td>0</td>\n",
       "      <td>391.0</td>\n",
       "      <td>01M292</td>\n",
       "      <td>425.0</td>\n",
       "      <td>31.0</td>\n",
       "      <td>Henry Street School for International Studies</td>\n",
       "      <td>385.0</td>\n",
       "    </tr>\n",
       "    <tr>\n",
       "      <th>1</th>\n",
       "      <td>1</td>\n",
       "      <td>394.0</td>\n",
       "      <td>01M448</td>\n",
       "      <td>419.0</td>\n",
       "      <td>60.0</td>\n",
       "      <td>University Neighborhood High School</td>\n",
       "      <td>387.0</td>\n",
       "    </tr>\n",
       "    <tr>\n",
       "      <th>2</th>\n",
       "      <td>2</td>\n",
       "      <td>418.0</td>\n",
       "      <td>01M450</td>\n",
       "      <td>431.0</td>\n",
       "      <td>69.0</td>\n",
       "      <td>East Side Community High School</td>\n",
       "      <td>402.0</td>\n",
       "    </tr>\n",
       "    <tr>\n",
       "      <th>3</th>\n",
       "      <td>3</td>\n",
       "      <td>385.0</td>\n",
       "      <td>01M458</td>\n",
       "      <td>370.0</td>\n",
       "      <td>26.0</td>\n",
       "      <td>SATELLITE ACADEMY FORSYTH ST</td>\n",
       "      <td>378.0</td>\n",
       "    </tr>\n",
       "    <tr>\n",
       "      <th>4</th>\n",
       "      <td>5</td>\n",
       "      <td>314.0</td>\n",
       "      <td>01M515</td>\n",
       "      <td>532.0</td>\n",
       "      <td>154.0</td>\n",
       "      <td>Lower East Side Preparatory High School</td>\n",
       "      <td>314.0</td>\n",
       "    </tr>\n",
       "  </tbody>\n",
       "</table>\n",
       "</div>"
      ],
      "text/plain": [
       "   index  critical_reading_mean     dbn  mathematics_mean  \\\n",
       "0      0                  391.0  01M292             425.0   \n",
       "1      1                  394.0  01M448             419.0   \n",
       "2      2                  418.0  01M450             431.0   \n",
       "3      3                  385.0  01M458             370.0   \n",
       "4      5                  314.0  01M515             532.0   \n",
       "\n",
       "   number_of_test_takers                                     school_name  \\\n",
       "0                   31.0  Henry Street School for International Studies    \n",
       "1                   60.0            University Neighborhood High School    \n",
       "2                   69.0                East Side Community High School    \n",
       "3                   26.0                   SATELLITE ACADEMY FORSYTH ST    \n",
       "4                  154.0        Lower East Side Preparatory High School    \n",
       "\n",
       "   writing_mean  \n",
       "0         385.0  \n",
       "1         387.0  \n",
       "2         402.0  \n",
       "3         378.0  \n",
       "4         314.0  "
      ]
     },
     "execution_count": 24,
     "metadata": {},
     "output_type": "execute_result"
    }
   ],
   "source": [
    "SAT_df.head()"
   ]
  },
  {
   "cell_type": "code",
   "execution_count": 25,
   "metadata": {},
   "outputs": [],
   "source": [
    "def getSATbyDistrict():\n",
    "    '''\n",
    "    Ouput list are in this order: \n",
    "    District,\n",
    "    Total Exam Takers, \n",
    "    Reading Average, \n",
    "    Math Average,\n",
    "    Writing Average, \n",
    "    Total SAT score\n",
    "    '''\n",
    "    district= 1\n",
    "    total=0\n",
    "    r=0\n",
    "    m=0\n",
    "    w=0\n",
    "    count=0\n",
    "    SAT_by_district=[]\n",
    "    for i in range(0,len(SAT_df.index)):\n",
    "        # first two digits of dbn are districts\n",
    "        district_data=int(SAT_df.loc[i].dbn[:2])\n",
    "        total_sat_takers=int(SAT_df.loc[i].number_of_test_takers)\n",
    "        reading=int(SAT_df.loc[i].critical_reading_mean)\n",
    "        math=int(SAT_df.loc[i].mathematics_mean)\n",
    "        writing=int(SAT_df.loc[i].writing_mean)\n",
    "        \n",
    "        if(district_data==district):\n",
    "            total+=total_sat_takers\n",
    "            r+=reading\n",
    "            m+=math\n",
    "            w+=writing\n",
    "            count+=1\n",
    "        \n",
    "        # this is the point where next district starts.    \n",
    "        else:\n",
    "            r_avg=r/count\n",
    "            m_avg=m/count\n",
    "            w_avg=w/count\n",
    "\n",
    "            SAT_by_district.append([district , total, r_avg, m_avg, w_avg, r_avg + m_avg + w_avg])\n",
    "\n",
    "            district+=1\n",
    "            count=1 \n",
    "            total=total_sat_takers\n",
    "            r=reading\n",
    "            m=math\n",
    "            w=writing\n",
    "        if(district_data==75):\n",
    "            break\n",
    "    return SAT_by_district"
   ]
  },
  {
   "cell_type": "code",
   "execution_count": 26,
   "metadata": {},
   "outputs": [],
   "source": [
    "SATData=getSATbyDistrict()\n"
   ]
  },
  {
   "cell_type": "code",
   "execution_count": 27,
   "metadata": {},
   "outputs": [],
   "source": [
    "indexes=list(range(32))\n",
    "SAT_sorted_scores=[SATData[x][5] for x in indexes]"
   ]
  },
  {
   "cell_type": "code",
   "execution_count": 33,
   "metadata": {
    "scrolled": true
   },
   "outputs": [
    {
     "data": {
      "image/png": "[encoded data removed]",
      "text/plain": [
       "<Figure size 432x288 with 1 Axes>"
      ]
     },
     "metadata": {
      "needs_background": "light"
     },
     "output_type": "display_data"
    }
   ],
   "source": [
    "x = [x+1 for x in indexes]\n",
    "\n",
    "plt.bar(x, SAT_sorted_scores)\n",
    "plt.xlabel('District Number', fontsize=5)\n",
    "plt.ylabel('SAT scores', fontsize=5)\n",
    "plt.xticks(x, x, fontsize=5, rotation=30)\n",
    "plt.title('SAT score distribution over NYC districts')\n",
    "plt.show()\n",
    "\n",
    "\n"
   ]
  },
  {
   "cell_type": "code",
   "execution_count": 13,
   "metadata": {},
   "outputs": [],
   "source": [
    "from operator import itemgetter\n"
   ]
  },
  {
   "cell_type": "code",
   "execution_count": 14,
   "metadata": {},
   "outputs": [],
   "source": [
    "sorted_SATData=sorted(SATData, key=itemgetter(5))"
   ]
  },
  {
   "cell_type": "code",
   "execution_count": 15,
   "metadata": {},
   "outputs": [
    {
     "name": "stdout",
     "output_type": "stream",
     "text": [
      "District 18 has the  worst average SAT scores of  1075.1999999999998\n",
      "District 22 has the  best average SAT scores of  1424.0\n"
     ]
    }
   ],
   "source": [
    "\n",
    "print('District',sorted_SATData[0][0],'has the  worst average SAT scores of ',sorted_SATData[0][-1])\n",
    "print('District',sorted_SATData[-1][0],'has the  best average SAT scores of ',sorted_SATData[-1][-1])"
   ]
  },
  {
   "cell_type": "code",
   "execution_count": 29,
   "metadata": {},
   "outputs": [
    {
     "data": {
      "text/plain": [
       "['MIDWOOD HIGH SCHOOL',\n",
       " 'JAMES MADISON HIGH SCHOOL',\n",
       " 'SHEEPSHEAD BAY HIGH SCHOOL',\n",
       " 'LEON M. GOLDSTEIN HIGH SCHOOL FOR THE SCIENCES',\n",
       " 'BROOKLYN COLLEGE ACADEMY']"
      ]
     },
     "execution_count": 29,
     "metadata": {},
     "output_type": "execute_result"
    }
   ],
   "source": [
    "get_SchoolsByDistrict(22)"
   ]
  },
  {
   "cell_type": "code",
   "execution_count": 30,
   "metadata": {},
   "outputs": [
    {
     "data": {
      "text/plain": [
       "['IT TAKES A VILLAGE ACADEMY',\n",
       " 'BROOKLYN GENERATION SCHOOL',\n",
       " 'BROOKLYN THEATRE ARTS HIGH SCHOOL',\n",
       " 'KURT HAHN EXPEDITIONARY LEARNING SCHOOL',\n",
       " 'VICTORY COLLEGIATE HIGH SCHOOL',\n",
       " 'BROOKLYN BRIDGE ACADEMY',\n",
       " 'ARTS & MEDIA PREPARATORY ACADEMY',\n",
       " 'HIGH SCHOOL FOR INNOVATION IN ADVERTISING AND MEDIA',\n",
       " 'CULTURAL ACADEMY FOR THE ARTS AND SCIENCES',\n",
       " 'HIGH SCHOOL FOR MEDICAL PROFESSIONS',\n",
       " 'OLYMPUS ACADEMY',\n",
       " 'ACADEMY FOR CONSERVATION AND THE ENVIRONMENT',\n",
       " 'URBAN ACTION ACADEMY',\n",
       " 'EAST BROOKLYN COMMUNITY HIGH SCHOOL']"
      ]
     },
     "execution_count": 30,
     "metadata": {},
     "output_type": "execute_result"
    }
   ],
   "source": [
    "get_SchoolsByDistrict(18)"
   ]
  },
  {
   "cell_type": "code",
   "execution_count": null,
   "metadata": {},
   "outputs": [],
   "source": []
  }
 ],
 "metadata": {
  "kernelspec": {
   "display_name": "Python 3",
   "language": "python",
   "name": "python3"
  },
  "language_info": {
   "codemirror_mode": {
    "name": "ipython",
    "version": 3
   },
   "file_extension": ".py",
   "mimetype": "text/x-python",
   "name": "python",
   "nbconvert_exporter": "python",
   "pygments_lexer": "ipython3",
   "version": "3.7.1"
  }
 },
 "nbformat": 4,
 "nbformat_minor": 2
}
