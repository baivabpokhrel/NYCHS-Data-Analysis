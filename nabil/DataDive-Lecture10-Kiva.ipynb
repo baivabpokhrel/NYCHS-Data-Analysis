{
 "cells": [
  {
   "cell_type": "markdown",
   "metadata": {},
   "source": [
    "# Data Dive Week 10: Fitting and Evaluating Classification Models\n",
    "\n",
    "Today we'll be looking at a real world application of logistic regression using data from loans requests posted on [Kiva.org](https://www.kiva.org/). \n",
    "\n",
    "![alt text](https://www-kiva-org.global.ssl.fastly.net/cms/sites/default/files/kivablog/preview_logo_1.jpg)\n",
    "\n",
    "Kiva is an international nonprofit, founded in 2005 and based in San Francisco, with a mission to connect people through lending to alleviate poverty. Kiva seeks to celebrate and support people looking to create a better future for themselves, their families and their communities.\n",
    "\n",
    "*By lending as little as $25 on Kiva, anyone can help a borrower start or grow a business, go to school, access clean energy or realize their potential. For some, it’s a matter of survival, for others it’s the fuel for a life-long ambition.*\n",
    "\n",
    "## Today's Modeling Objective\n",
    "Our focus today will be determining whether microfinance projects on [Kiva's site](https://www.kiva.org/) receive funding or not using a host of features made available by Kiva, along with some features we'll design ourselves. \n",
    "\n",
    "Today's data is a subsample of projects in Kenya, one of Kiva's most active countries for lending. We'll be working with 18,000 observation, 3,000 or which were funded. Documentation on the data is available on [Kiva's website](http://build.kiva.org/docs/data/basic_types).\n"
   ]
  },
  {
   "cell_type": "code",
   "execution_count": 23,
   "metadata": {},
   "outputs": [],
   "source": [
    "%matplotlib inline\n",
    "\n",
    "import pandas as pd\n",
    "import numpy as np\n",
    "import warnings\n",
    "import matplotlib.pyplot as plt\n",
    "from sklearn.linear_model import LogisticRegression\n",
    "from sklearn.tree import DecisionTreeClassifier\n",
    "from sklearn.ensemble import RandomForestClassifier, GradientBoostingClassifier\n",
    "from sklearn.metrics import accuracy_score, recall_score, precision_score, confusion_matrix\n",
    "from sklearn.metrics import roc_curve, roc_auc_score\n",
    "from sklearn.model_selection import KFold, train_test_split\n",
    "\n",
    "warnings.filterwarnings(\"ignore\")\n",
    "pd.set_option(\"display.max_rows\", 500)\n",
    "pd.set_option(\"display.max_columns\", 40)\n",
    "random_state = 20180415"
   ]
  },
  {
   "cell_type": "code",
   "execution_count": 24,
   "metadata": {},
   "outputs": [
    {
     "name": "stdout",
     "output_type": "stream",
     "text": [
      "(18000, 25)\n",
      "['LOAN_ID', 'DESCRIPTION', 'FUNDED_AMOUNT', 'LOAN_AMOUNT', 'STATUS', 'ACTIVITY_NAME', 'SECTOR_NAME', 'LOAN_USE', 'TOWN_NAME', 'CURRENCY', 'PARTNER_ID', 'POSTED_TIME', 'PLANNED_EXPIRATION_TIME', 'DISBURSE_TIME', 'RAISED_TIME', 'LENDER_TERM', 'NUM_LENDERS_TOTAL', 'NUM_JOURNAL_ENTRIES', 'NUM_BULK_ENTRIES', 'TAGS', 'BORROWER_NAMES', 'BORROWER_GENDERS', 'BORROWER_PICTURED', 'REPAYMENT_INTERVAL', 'DISTRIBUTION_MODEL']\n"
     ]
    },
    {
     "data": {
      "text/html": [
       "<div>\n",
       "<style scoped>\n",
       "    .dataframe tbody tr th:only-of-type {\n",
       "        vertical-align: middle;\n",
       "    }\n",
       "\n",
       "    .dataframe tbody tr th {\n",
       "        vertical-align: top;\n",
       "    }\n",
       "\n",
       "    .dataframe thead th {\n",
       "        text-align: right;\n",
       "    }\n",
       "</style>\n",
       "<table border=\"1\" class=\"dataframe\">\n",
       "  <thead>\n",
       "    <tr style=\"text-align: right;\">\n",
       "      <th></th>\n",
       "      <th>LOAN_ID</th>\n",
       "      <th>DESCRIPTION</th>\n",
       "      <th>FUNDED_AMOUNT</th>\n",
       "      <th>LOAN_AMOUNT</th>\n",
       "      <th>STATUS</th>\n",
       "      <th>ACTIVITY_NAME</th>\n",
       "      <th>SECTOR_NAME</th>\n",
       "      <th>LOAN_USE</th>\n",
       "      <th>TOWN_NAME</th>\n",
       "      <th>CURRENCY</th>\n",
       "      <th>PARTNER_ID</th>\n",
       "      <th>POSTED_TIME</th>\n",
       "      <th>PLANNED_EXPIRATION_TIME</th>\n",
       "      <th>DISBURSE_TIME</th>\n",
       "      <th>RAISED_TIME</th>\n",
       "      <th>LENDER_TERM</th>\n",
       "      <th>NUM_LENDERS_TOTAL</th>\n",
       "      <th>NUM_JOURNAL_ENTRIES</th>\n",
       "      <th>NUM_BULK_ENTRIES</th>\n",
       "      <th>TAGS</th>\n",
       "      <th>BORROWER_NAMES</th>\n",
       "      <th>BORROWER_GENDERS</th>\n",
       "      <th>BORROWER_PICTURED</th>\n",
       "      <th>REPAYMENT_INTERVAL</th>\n",
       "      <th>DISTRIBUTION_MODEL</th>\n",
       "    </tr>\n",
       "  </thead>\n",
       "  <tbody>\n",
       "    <tr>\n",
       "      <th>0</th>\n",
       "      <td>854452</td>\n",
       "      <td>Janepher, pictured above, is a group leader an...</td>\n",
       "      <td>725.0</td>\n",
       "      <td>1000.0</td>\n",
       "      <td>expired</td>\n",
       "      <td>Agriculture</td>\n",
       "      <td>Agriculture</td>\n",
       "      <td>to buy cost-efficient maize seeds and fertiliz...</td>\n",
       "      <td>Webuye</td>\n",
       "      <td>KES</td>\n",
       "      <td>202.0</td>\n",
       "      <td>2015-03-12 12:14:55.000 +0000</td>\n",
       "      <td>2015-04-17 06:40:03.000 +0000</td>\n",
       "      <td>2015-02-28 08:00:00.000 +0000</td>\n",
       "      <td>NaN</td>\n",
       "      <td>11.0</td>\n",
       "      <td>15</td>\n",
       "      <td>1</td>\n",
       "      <td>1</td>\n",
       "      <td>#Eco-friendly, #Sustainable Ag, #Technology, #...</td>\n",
       "      <td>Teresa, Janepher, Joseph, Jane, Phylis J, Mild...</td>\n",
       "      <td>female, female, male, female, female, female, ...</td>\n",
       "      <td>true, true, true, true, true, true, true, true...</td>\n",
       "      <td>bullet</td>\n",
       "      <td>field_partner</td>\n",
       "    </tr>\n",
       "    <tr>\n",
       "      <th>1</th>\n",
       "      <td>868233</td>\n",
       "      <td>John is a married man. He has two children. He...</td>\n",
       "      <td>825.0</td>\n",
       "      <td>1100.0</td>\n",
       "      <td>expired</td>\n",
       "      <td>Grocery Store</td>\n",
       "      <td>Food</td>\n",
       "      <td>buy more stock of maize to produce maize flou...</td>\n",
       "      <td>Nakuru</td>\n",
       "      <td>KES</td>\n",
       "      <td>138.0</td>\n",
       "      <td>2015-04-10 10:47:35.000 +0000</td>\n",
       "      <td>2015-05-16 17:30:02.000 +0000</td>\n",
       "      <td>2015-04-07 07:00:00.000 +0000</td>\n",
       "      <td>NaN</td>\n",
       "      <td>14.0</td>\n",
       "      <td>14</td>\n",
       "      <td>1</td>\n",
       "      <td>1</td>\n",
       "      <td>#Parent, #Repeat Borrower, #Vegan</td>\n",
       "      <td>JOHN</td>\n",
       "      <td>male</td>\n",
       "      <td>true</td>\n",
       "      <td>monthly</td>\n",
       "      <td>field_partner</td>\n",
       "    </tr>\n",
       "    <tr>\n",
       "      <th>2</th>\n",
       "      <td>1429009</td>\n",
       "      <td>Margaret is a single mother and lives with her...</td>\n",
       "      <td>275.0</td>\n",
       "      <td>500.0</td>\n",
       "      <td>expired</td>\n",
       "      <td>Farming</td>\n",
       "      <td>Agriculture</td>\n",
       "      <td>to buy hybrid seeds and fertilizers to use on ...</td>\n",
       "      <td>Siongiroi</td>\n",
       "      <td>KES</td>\n",
       "      <td>156.0</td>\n",
       "      <td>2017-12-06 10:12:14.000 +0000</td>\n",
       "      <td>2018-01-08 12:50:04.000 +0000</td>\n",
       "      <td>2017-11-27 08:00:00.000 +0000</td>\n",
       "      <td>NaN</td>\n",
       "      <td>20.0</td>\n",
       "      <td>11</td>\n",
       "      <td>1</td>\n",
       "      <td>1</td>\n",
       "      <td>#Eco-friendly, #Woman Owned Biz</td>\n",
       "      <td>Margaret</td>\n",
       "      <td>female</td>\n",
       "      <td>true</td>\n",
       "      <td>monthly</td>\n",
       "      <td>field_partner</td>\n",
       "    </tr>\n",
       "    <tr>\n",
       "      <th>3</th>\n",
       "      <td>1077128</td>\n",
       "      <td>Agriphine is a proud mother of angelic-looking...</td>\n",
       "      <td>225.0</td>\n",
       "      <td>1000.0</td>\n",
       "      <td>expired</td>\n",
       "      <td>Farming</td>\n",
       "      <td>Agriculture</td>\n",
       "      <td>to buy farm supplies and seeds in order to exp...</td>\n",
       "      <td>Chuka</td>\n",
       "      <td>KES</td>\n",
       "      <td>156.0</td>\n",
       "      <td>2016-05-27 13:05:40.000 +0000</td>\n",
       "      <td>2016-07-03 03:30:03.000 +0000</td>\n",
       "      <td>2016-05-20 07:00:00.000 +0000</td>\n",
       "      <td>NaN</td>\n",
       "      <td>20.0</td>\n",
       "      <td>7</td>\n",
       "      <td>1</td>\n",
       "      <td>1</td>\n",
       "      <td>#Parent, #Woman Owned Biz</td>\n",
       "      <td>Agriphine</td>\n",
       "      <td>female</td>\n",
       "      <td>true</td>\n",
       "      <td>monthly</td>\n",
       "      <td>field_partner</td>\n",
       "    </tr>\n",
       "    <tr>\n",
       "      <th>4</th>\n",
       "      <td>825980</td>\n",
       "      <td>Bernard is 32 years. He is married to Caroline...</td>\n",
       "      <td>275.0</td>\n",
       "      <td>500.0</td>\n",
       "      <td>expired</td>\n",
       "      <td>Butcher Shop</td>\n",
       "      <td>Food</td>\n",
       "      <td>to add stocks of pork meat.</td>\n",
       "      <td>Kisumu</td>\n",
       "      <td>KES</td>\n",
       "      <td>133.0</td>\n",
       "      <td>2015-01-09 09:10:57.000 +0000</td>\n",
       "      <td>2015-02-09 16:10:03.000 +0000</td>\n",
       "      <td>2014-12-11 08:00:00.000 +0000</td>\n",
       "      <td>NaN</td>\n",
       "      <td>14.0</td>\n",
       "      <td>8</td>\n",
       "      <td>1</td>\n",
       "      <td>1</td>\n",
       "      <td>user_favorite, #Parent, #Repeat Borrower</td>\n",
       "      <td>BERNARD</td>\n",
       "      <td>male</td>\n",
       "      <td>true</td>\n",
       "      <td>monthly</td>\n",
       "      <td>field_partner</td>\n",
       "    </tr>\n",
       "  </tbody>\n",
       "</table>\n",
       "</div>"
      ],
      "text/plain": [
       "   LOAN_ID                                        DESCRIPTION  FUNDED_AMOUNT  \\\n",
       "0   854452  Janepher, pictured above, is a group leader an...          725.0   \n",
       "1   868233  John is a married man. He has two children. He...          825.0   \n",
       "2  1429009  Margaret is a single mother and lives with her...          275.0   \n",
       "3  1077128  Agriphine is a proud mother of angelic-looking...          225.0   \n",
       "4   825980  Bernard is 32 years. He is married to Caroline...          275.0   \n",
       "\n",
       "   LOAN_AMOUNT   STATUS  ACTIVITY_NAME  SECTOR_NAME  \\\n",
       "0       1000.0  expired    Agriculture  Agriculture   \n",
       "1       1100.0  expired  Grocery Store         Food   \n",
       "2        500.0  expired        Farming  Agriculture   \n",
       "3       1000.0  expired        Farming  Agriculture   \n",
       "4        500.0  expired   Butcher Shop         Food   \n",
       "\n",
       "                                            LOAN_USE  TOWN_NAME CURRENCY  \\\n",
       "0  to buy cost-efficient maize seeds and fertiliz...     Webuye      KES   \n",
       "1   buy more stock of maize to produce maize flou...     Nakuru      KES   \n",
       "2  to buy hybrid seeds and fertilizers to use on ...  Siongiroi      KES   \n",
       "3  to buy farm supplies and seeds in order to exp...      Chuka      KES   \n",
       "4                        to add stocks of pork meat.     Kisumu      KES   \n",
       "\n",
       "   PARTNER_ID                    POSTED_TIME        PLANNED_EXPIRATION_TIME  \\\n",
       "0       202.0  2015-03-12 12:14:55.000 +0000  2015-04-17 06:40:03.000 +0000   \n",
       "1       138.0  2015-04-10 10:47:35.000 +0000  2015-05-16 17:30:02.000 +0000   \n",
       "2       156.0  2017-12-06 10:12:14.000 +0000  2018-01-08 12:50:04.000 +0000   \n",
       "3       156.0  2016-05-27 13:05:40.000 +0000  2016-07-03 03:30:03.000 +0000   \n",
       "4       133.0  2015-01-09 09:10:57.000 +0000  2015-02-09 16:10:03.000 +0000   \n",
       "\n",
       "                   DISBURSE_TIME RAISED_TIME  LENDER_TERM  NUM_LENDERS_TOTAL  \\\n",
       "0  2015-02-28 08:00:00.000 +0000         NaN         11.0                 15   \n",
       "1  2015-04-07 07:00:00.000 +0000         NaN         14.0                 14   \n",
       "2  2017-11-27 08:00:00.000 +0000         NaN         20.0                 11   \n",
       "3  2016-05-20 07:00:00.000 +0000         NaN         20.0                  7   \n",
       "4  2014-12-11 08:00:00.000 +0000         NaN         14.0                  8   \n",
       "\n",
       "   NUM_JOURNAL_ENTRIES  NUM_BULK_ENTRIES  \\\n",
       "0                    1                 1   \n",
       "1                    1                 1   \n",
       "2                    1                 1   \n",
       "3                    1                 1   \n",
       "4                    1                 1   \n",
       "\n",
       "                                                TAGS  \\\n",
       "0  #Eco-friendly, #Sustainable Ag, #Technology, #...   \n",
       "1                  #Parent, #Repeat Borrower, #Vegan   \n",
       "2                    #Eco-friendly, #Woman Owned Biz   \n",
       "3                          #Parent, #Woman Owned Biz   \n",
       "4           user_favorite, #Parent, #Repeat Borrower   \n",
       "\n",
       "                                      BORROWER_NAMES  \\\n",
       "0  Teresa, Janepher, Joseph, Jane, Phylis J, Mild...   \n",
       "1                                               JOHN   \n",
       "2                                          Margaret    \n",
       "3                                          Agriphine   \n",
       "4                                            BERNARD   \n",
       "\n",
       "                                    BORROWER_GENDERS  \\\n",
       "0  female, female, male, female, female, female, ...   \n",
       "1                                               male   \n",
       "2                                             female   \n",
       "3                                             female   \n",
       "4                                               male   \n",
       "\n",
       "                                   BORROWER_PICTURED REPAYMENT_INTERVAL  \\\n",
       "0  true, true, true, true, true, true, true, true...             bullet   \n",
       "1                                               true            monthly   \n",
       "2                                               true            monthly   \n",
       "3                                               true            monthly   \n",
       "4                                               true            monthly   \n",
       "\n",
       "  DISTRIBUTION_MODEL  \n",
       "0      field_partner  \n",
       "1      field_partner  \n",
       "2      field_partner  \n",
       "3      field_partner  \n",
       "4      field_partner  "
      ]
     },
     "execution_count": 24,
     "metadata": {},
     "output_type": "execute_result"
    }
   ],
   "source": [
    "df = pd.read_csv('https://grantmlong.com/data/kiva_kenya_sample.csv')\n",
    "print(df.shape)\n",
    "print(list(df))\n",
    "df.head()"
   ]
  },
  {
   "cell_type": "markdown",
   "metadata": {},
   "source": [
    "# Familiarizing Ourselves with the Data\n",
    "\n",
    "### To get a sense of the different data points and examples here:\n",
    " 1. Print **three** randomly selected project descriptions.\n",
    " 2. Print **five** randomly selected examples of `POSTED_TIME`.\n",
    " 3. Print the unique values and counts for `ACTIVITY_NAME`.\n",
    " 4. Print the unique values and counts for `SECTOR_NAME`.\n",
    " 5. Summarize the values for loan amount.\n",
    " 6. Create a histogram for `NUM_LENDERS_TOTAL`. "
   ]
  },
  {
   "cell_type": "code",
   "execution_count": 25,
   "metadata": {},
   "outputs": [],
   "source": [
    "# Print three randomly selected project descriptions.\n"
   ]
  },
  {
   "cell_type": "code",
   "execution_count": 26,
   "metadata": {},
   "outputs": [],
   "source": [
    "# Print five randomly selected examples of POSTED_TIME.\n"
   ]
  },
  {
   "cell_type": "code",
   "execution_count": 27,
   "metadata": {},
   "outputs": [],
   "source": [
    "# Print the unique values and counts for ACTIVITY_NAME.\n"
   ]
  },
  {
   "cell_type": "code",
   "execution_count": 28,
   "metadata": {},
   "outputs": [],
   "source": [
    "# Print the unique values and counts for SECTOR_NAME.\n"
   ]
  },
  {
   "cell_type": "code",
   "execution_count": 29,
   "metadata": {},
   "outputs": [],
   "source": [
    "# Summarize the values for loan amount.\n"
   ]
  },
  {
   "cell_type": "code",
   "execution_count": 30,
   "metadata": {},
   "outputs": [],
   "source": [
    "# Create a histogram for NUM_LENDERS_TOTAL\n"
   ]
  },
  {
   "cell_type": "markdown",
   "metadata": {},
   "source": [
    "# Tidying Up Our Data\n",
    "\n",
    "Now that we've taken a closer look at our data, there are a few things we'll want to do to prep our data for modeling: \n",
    " 1. Create a target variable\n",
    " 2. Generate a more usable version of the `POSTED_TIME` column.\n",
    " 3. Generate a variable with the amount of planned time before expiration for each project. \n",
    " 4. Generate boolean variables for each of the following categorical columns:\n",
    "   * `SECTOR_NAME`\n",
    "   * `ACTIVITY_NAME`\n",
    "   * `REPAYMENT_INTERVAL`\n",
    " 5. Create boolean variables for a handful of other free text and categorical columns, including:\n",
    "   * `BORROWER_PICTURED`\n",
    "   * `BORROWER_GENDERS`\n",
    "   * `DISTRIBUTION_MODEL`\n",
    " \n",
    " "
   ]
  },
  {
   "cell_type": "markdown",
   "metadata": {},
   "source": [
    "##### Let's choose and create a variable for our target. \n",
    "Remember, we're trying to determine whether microfinance projects on Kiva's site receive funding or not. "
   ]
  },
  {
   "cell_type": "code",
   "execution_count": 31,
   "metadata": {},
   "outputs": [
    {
     "data": {
      "text/plain": [
       "funded     12000\n",
       "expired     6000\n",
       "Name: STATUS, dtype: int64"
      ]
     },
     "execution_count": 31,
     "metadata": {},
     "output_type": "execute_result"
    }
   ],
   "source": [
    "df.STATUS.value_counts()"
   ]
  },
  {
   "cell_type": "code",
   "execution_count": 32,
   "metadata": {},
   "outputs": [],
   "source": [
    "df['success'] = (df.STATUS=='funded')*1\n"
   ]
  },
  {
   "cell_type": "markdown",
   "metadata": {},
   "source": [
    "##### Let's make features for both `posted_year` and `posted_duration` "
   ]
  },
  {
   "cell_type": "code",
   "execution_count": 33,
   "metadata": {},
   "outputs": [],
   "source": [
    "df['posted_year'] = pd.to_datetime(df.POSTED_TIME).dt.year\n",
    "df['posted_duration'] = (pd.to_datetime(df.PLANNED_EXPIRATION_TIME)\n",
    "                             - pd.to_datetime(df.POSTED_TIME)\n",
    "                            ).dt.days\n",
    "                            "
   ]
  },
  {
   "cell_type": "markdown",
   "metadata": {},
   "source": [
    "##### Let's create binary (1/0) features for `SECTOR_NAME`, `ACTIVITY_NAME`, and `REPAYMENT_INTERVAL`\n"
   ]
  },
  {
   "cell_type": "code",
   "execution_count": 34,
   "metadata": {},
   "outputs": [],
   "source": [
    "sector_names = ['sector_' + name.lower() for name in df.SECTOR_NAME.unique()]\n",
    "for name in df.SECTOR_NAME.unique():\n",
    "    df['sector_' + name.lower()] = (df.SECTOR_NAME==name)*1\n",
    "\n",
    "activity_names = ['activity_' + name.lower() for name in df.ACTIVITY_NAME.unique()]\n",
    "for name in df.ACTIVITY_NAME.unique():\n",
    "    df['activity_' + name.lower()] = (df.ACTIVITY_NAME==name)*1\n",
    "\n",
    "repayment_types = ['repayment_' + interval.lower() for interval in df.REPAYMENT_INTERVAL.unique()]\n",
    "for interval in df.REPAYMENT_INTERVAL.unique():\n",
    "    df['repayment_' + interval.lower()] = (df.REPAYMENT_INTERVAL==interval)*1\n"
   ]
  },
  {
   "cell_type": "markdown",
   "metadata": {},
   "source": [
    "##### Let's create binary (1/0) features for `has_borrower_pic`, `has_female_borrower`, `direct_distribution`, and `currency_usd`\n"
   ]
  },
  {
   "cell_type": "code",
   "execution_count": 35,
   "metadata": {},
   "outputs": [],
   "source": [
    "other_names = ['has_borrower_pic', 'has_female_borrower', 'direct_distribution', 'currency_usd']\n",
    "\n",
    "df['has_borrower_pic'] = df.BORROWER_PICTURED.str.contains('true')*1\n",
    "df['has_borrower_pic'] = df['has_borrower_pic'].fillna(0)\n",
    "\n",
    "df['has_female_borrower'] = df.BORROWER_GENDERS.str.contains('female')*1\n",
    "df['has_female_borrower'] = df['has_female_borrower'].fillna(0)\n",
    "\n",
    "df['direct_distribution'] = (df.DISTRIBUTION_MODEL=='direct')*1\n",
    "\n",
    "df['currency_usd'] = (df.CURRENCY=='USD')*1\n"
   ]
  },
  {
   "cell_type": "code",
   "execution_count": null,
   "metadata": {},
   "outputs": [],
   "source": []
  },
  {
   "cell_type": "code",
   "execution_count": null,
   "metadata": {},
   "outputs": [],
   "source": []
  },
  {
   "cell_type": "markdown",
   "metadata": {},
   "source": [
    "# Data Handling\n",
    "\n",
    "#### To get our data into formats that work well with `sci-kit learn`, we'll need to: \n",
    " 1. Identify our features and isolate them in a new dataframe.\n",
    " 2. Split our dataset into train and holdout splits. \n",
    " \n"
   ]
  },
  {
   "cell_type": "code",
   "execution_count": 36,
   "metadata": {},
   "outputs": [
    {
     "name": "stdout",
     "output_type": "stream",
     "text": [
      "14297 0.6223683290200741\n",
      "1589 0.6217747010698552\n"
     ]
    }
   ],
   "source": [
    "\n",
    "\n",
    "features = (['posted_year', 'posted_duration', 'LOAN_AMOUNT', 'LENDER_TERM', 'NUM_JOURNAL_ENTRIES'] \n",
    "            + repayment_types + sector_names + activity_names \n",
    "            + other_names\n",
    "           )\n",
    "\n",
    "model_df = df[(features + ['success'])].dropna().reset_index()\n",
    "\n",
    "train_df, holdout_df, y_train, y_holdout = train_test_split(\n",
    "    model_df[features], \n",
    "    model_df['success'], test_size=0.1,\n",
    "    random_state=random_state)\n",
    "\n",
    "train_df['success'] = y_train\n",
    "holdout_df['success'] = y_holdout\n",
    "\n",
    "train_df.reset_index(inplace=True)\n",
    "holdout_df.reset_index(inplace=True)\n",
    "\n",
    "print(train_df.shape[0], train_df.success.mean())\n",
    "print(holdout_df.shape[0], holdout_df.success.mean())"
   ]
  },
  {
   "cell_type": "code",
   "execution_count": 37,
   "metadata": {},
   "outputs": [
    {
     "data": {
      "text/plain": [
       "(15886, 166)"
      ]
     },
     "execution_count": 37,
     "metadata": {},
     "output_type": "execute_result"
    }
   ],
   "source": [
    "model_df.shape"
   ]
  },
  {
   "cell_type": "code",
   "execution_count": 38,
   "metadata": {},
   "outputs": [
    {
     "data": {
      "text/plain": [
       "(14297, 166)"
      ]
     },
     "execution_count": 38,
     "metadata": {},
     "output_type": "execute_result"
    }
   ],
   "source": [
    "train_df.shape"
   ]
  },
  {
   "cell_type": "code",
   "execution_count": 39,
   "metadata": {},
   "outputs": [
    {
     "data": {
      "text/plain": [
       "(1589, 166)"
      ]
     },
     "execution_count": 39,
     "metadata": {},
     "output_type": "execute_result"
    }
   ],
   "source": [
    "holdout_df.shape"
   ]
  },
  {
   "cell_type": "markdown",
   "metadata": {},
   "source": [
    "# Model Training\n",
    "\n",
    "Let's take a quick look at all of our classification model options using cross validation. For the tree based models, we'll use the hyperparameter `max_depth=5` as a naive attempt at avoiding overfitting before we dig deeper."
   ]
  },
  {
   "cell_type": "markdown",
   "metadata": {},
   "source": [
    "##### Let's fit and score the model, this time using cross validation:"
   ]
  },
  {
   "cell_type": "code",
   "execution_count": 40,
   "metadata": {},
   "outputs": [],
   "source": [
    "k_fold = KFold(n_splits=5, random_state=random_state)"
   ]
  },
  {
   "cell_type": "code",
   "execution_count": 41,
   "metadata": {},
   "outputs": [],
   "source": [
    "def get_cv_results(classifier):\n",
    "    \n",
    "    results = []\n",
    "    for train, test in k_fold.split(train_df):\n",
    "        classifier.fit(train_df.loc[train, features], train_df.loc[train, 'success'])\n",
    "        y_predicted = classifier.predict(train_df.loc[test, features])\n",
    "        accuracy = accuracy_score(train_df.loc[test, 'success'], y_predicted)\n",
    "        results.append(accuracy)\n",
    "    \n",
    "    return np.mean(results), np.std(results)\n"
   ]
  },
  {
   "cell_type": "markdown",
   "metadata": {},
   "source": [
    "#### First, let's look at the cv performance of Logistic Regression"
   ]
  },
  {
   "cell_type": "code",
   "execution_count": 42,
   "metadata": {},
   "outputs": [
    {
     "data": {
      "text/plain": [
       "(0.7679930387905204, 0.002725873107468279)"
      ]
     },
     "execution_count": 42,
     "metadata": {},
     "output_type": "execute_result"
    }
   ],
   "source": [
    "logreg = LogisticRegression(\n",
    "    random_state=random_state, \n",
    "    solver='lbfgs'\n",
    ")\n",
    "\n",
    "get_cv_results(logreg)\n"
   ]
  },
  {
   "cell_type": "markdown",
   "metadata": {},
   "source": [
    "#### Next, let's take a naive attempt to beat Logistic Regression using a Tree"
   ]
  },
  {
   "cell_type": "code",
   "execution_count": 43,
   "metadata": {},
   "outputs": [
    {
     "data": {
      "text/plain": [
       "(0.8169539205111084, 0.006024084889547715)"
      ]
     },
     "execution_count": 43,
     "metadata": {},
     "output_type": "execute_result"
    }
   ],
   "source": [
    "dtree = DecisionTreeClassifier(\n",
    "    random_state=random_state, \n",
    "    max_depth=5\n",
    ")\n",
    "\n",
    "get_cv_results(dtree)"
   ]
  },
  {
   "cell_type": "markdown",
   "metadata": {},
   "source": [
    "#### Looks like a non-linear method gives us a big boost. Let's try a Random Forest."
   ]
  },
  {
   "cell_type": "code",
   "execution_count": null,
   "metadata": {},
   "outputs": [],
   "source": [
    "rforest = RandomForestClassifier(\n",
    "    random_state=random_state, \n",
    "    max_depth=5,\n",
    "    n_estimators=100\n",
    ")\n",
    "\n",
    "get_cv_results(rforest)"
   ]
  },
  {
   "cell_type": "markdown",
   "metadata": {},
   "source": [
    "#### Finally, let's take a naive approach to Gradient Boosting."
   ]
  },
  {
   "cell_type": "code",
   "execution_count": null,
   "metadata": {},
   "outputs": [],
   "source": [
    "gbm = GradientBoostingClassifier(\n",
    "    random_state=random_state, \n",
    "    max_depth=5,\n",
    "    n_estimators=100\n",
    ")\n",
    "\n",
    "get_cv_results(gbm)"
   ]
  },
  {
   "cell_type": "code",
   "execution_count": null,
   "metadata": {},
   "outputs": [],
   "source": []
  },
  {
   "cell_type": "markdown",
   "metadata": {},
   "source": [
    "### Learning Curves, Revisited\n",
    "\n",
    "Now that we're working with a more complex data set, we should be able to build more robust learning curves than we had experience with when we were using the  "
   ]
  },
  {
   "cell_type": "code",
   "execution_count": null,
   "metadata": {},
   "outputs": [],
   "source": [
    "hp_values = range(1,50, 2)\n",
    "all_mu = []\n",
    "all_sigma = []\n",
    "\n",
    "for m in hp_values:\n",
    "\n",
    "    dtree=DecisionTreeClassifier(\n",
    "        criterion='entropy', \n",
    "        random_state=random_state, \n",
    "        max_depth=m,\n",
    "    )\n",
    "\n",
    "    mu, sigma = get_cv_results(dtree)\n",
    "    all_mu.append(mu)\n",
    "    all_sigma.append(sigma)\n",
    "    \n",
    "    print(m, mu, sigma)"
   ]
  },
  {
   "cell_type": "code",
   "execution_count": null,
   "metadata": {},
   "outputs": [],
   "source": [
    "plt.figure(figsize=(14, 5))\n",
    "plt.plot(hp_values, all_mu)\n",
    "plt.ylabel('Cross Validation Accuracy')\n",
    "plt.xlabel('Max Depth')"
   ]
  },
  {
   "cell_type": "code",
   "execution_count": null,
   "metadata": {},
   "outputs": [],
   "source": [
    "plt.figure(figsize=(14, 5))\n",
    "plt.plot(hp_values, all_sigma)\n",
    "plt.ylabel('Cross Validation Std Dev.')\n",
    "plt.xlabel('Max Depth')"
   ]
  },
  {
   "cell_type": "code",
   "execution_count": null,
   "metadata": {},
   "outputs": [],
   "source": []
  },
  {
   "cell_type": "markdown",
   "metadata": {},
   "source": [
    "# Evaluating Model Performance\n",
    "\n",
    "We can use ROC curves to look at how our models perform across a variety of threshholds against our holdout data. \n"
   ]
  },
  {
   "cell_type": "code",
   "execution_count": null,
   "metadata": {},
   "outputs": [],
   "source": [
    "def plot_roc(classifier, label, color):\n",
    "\n",
    "    classifier.fit(train_df[features], train_df['success'])\n",
    "    y_prob = classifier.predict_proba(holdout_df[features])\n",
    "    \n",
    "    fpr, tpr, thresh = roc_curve(holdout_df['success'], y_prob[:,1])\n",
    "    plt.plot(fpr, tpr,\n",
    "             label=label,\n",
    "             color=color, linewidth=3)\n",
    "\n",
    "    auc = roc_auc_score(holdout_df['success'], y_prob[:,1])\n",
    "    \n",
    "    print('AUC: %0.3f (%s)' % (auc, label))\n",
    " "
   ]
  },
  {
   "cell_type": "code",
   "execution_count": null,
   "metadata": {},
   "outputs": [],
   "source": [
    "f1 = plt.figure(figsize=(14,6))\n",
    "\n",
    "logreg = LogisticRegression(\n",
    "    random_state=random_state, \n",
    "    solver='lbfgs'\n",
    ")\n",
    "plot_roc(logreg, 'Logistic Regression', 'green')\n",
    "\n",
    "dtree = DecisionTreeClassifier(\n",
    "    random_state=random_state, \n",
    "    max_depth=5\n",
    ")\n",
    "plot_roc(dtree, 'Decision Tree', 'red')\n",
    "\n",
    "rforest = RandomForestClassifier(\n",
    "    random_state=random_state, \n",
    "    max_depth=5,\n",
    "    n_estimators=100\n",
    ")\n",
    "plot_roc(rforest, 'Random Forest', 'blue')\n",
    "\n",
    "gbm = GradientBoostingClassifier(\n",
    "    random_state=random_state, \n",
    "    max_depth=5,\n",
    "    n_estimators=100\n",
    ")\n",
    "plot_roc(gbm, 'GBM', 'lightblue')\n",
    "\n",
    "plt.legend(loc='lower right')"
   ]
  },
  {
   "cell_type": "markdown",
   "metadata": {},
   "source": [
    "## Review and Discussion: \n",
    " * Why do we think GBMs exhibit the best performance here? \n",
    " * In what situations might they not work as well?"
   ]
  },
  {
   "cell_type": "code",
   "execution_count": null,
   "metadata": {},
   "outputs": [],
   "source": []
  }
 ],
 "metadata": {
  "kernelspec": {
   "display_name": "Python 3",
   "language": "python",
   "name": "python3"
  },
  "language_info": {
   "codemirror_mode": {
    "name": "ipython",
    "version": 3
   },
   "file_extension": ".py",
   "mimetype": "text/x-python",
   "name": "python",
   "nbconvert_exporter": "python",
   "pygments_lexer": "ipython3",
   "version": "3.7.1"
  }
 },
 "nbformat": 4,
 "nbformat_minor": 2
}
