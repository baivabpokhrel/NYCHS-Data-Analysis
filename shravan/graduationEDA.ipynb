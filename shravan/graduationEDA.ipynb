{
 "cells": [
  {
   "cell_type": "code",
   "execution_count": 1,
   "metadata": {},
   "outputs": [],
   "source": [
    "import sys\n",
    "sys.path.append(\"..\")"
   ]
  },
  {
   "cell_type": "code",
   "execution_count": 2,
   "metadata": {},
   "outputs": [],
   "source": [
    "import pandas as pd\n",
    "import numpy as np\n",
    "import seaborn as sns\n",
    "from datasets import *"
   ]
  },
  {
   "cell_type": "code",
   "execution_count": 3,
   "metadata": {},
   "outputs": [],
   "source": [
    "graduationDistrictDf = get_Graduation(filterBy='district')"
   ]
  },
  {
   "cell_type": "code",
   "execution_count": 4,
   "metadata": {},
   "outputs": [
    {
     "data": {
      "text/plain": [
       "['District',\n",
       " 'Cohort Year',\n",
       " 'Cohort Category',\n",
       " 'Total Cohort #',\n",
       " 'Total Grads #',\n",
       " 'Total Grads % of cohort',\n",
       " 'Total Regents #',\n",
       " 'Total Regents % of cohort',\n",
       " 'Total Regents % of grads',\n",
       " 'Advanced Regents #',\n",
       " 'Advanced Regents % of cohort',\n",
       " 'Advanced Regents % of grads',\n",
       " 'Regents w/o Advanced #',\n",
       " 'Regents w/o Advanced      % of cohort',\n",
       " 'Regents w/o Advanced           % of grads',\n",
       " 'Local #',\n",
       " 'Local % of cohort',\n",
       " 'Local % of grads',\n",
       " 'Still Enrolled #',\n",
       " 'Still Enrolled % of cohort',\n",
       " 'Dropped Out #',\n",
       " 'Dropped Out % of cohort']"
      ]
     },
     "execution_count": 4,
     "metadata": {},
     "output_type": "execute_result"
    }
   ],
   "source": [
    "list(graduationDistrictDf)"
   ]
  },
  {
   "cell_type": "code",
   "execution_count": 5,
   "metadata": {},
   "outputs": [
    {
     "data": {
      "text/plain": [
       "District                                     0\n",
       "Cohort Year                                  0\n",
       "Cohort Category                              0\n",
       "Total Cohort #                               0\n",
       "Total Grads #                                0\n",
       "Total Grads % of cohort                      0\n",
       "Total Regents #                              0\n",
       "Total Regents % of cohort                    0\n",
       "Total Regents % of grads                     0\n",
       "Advanced Regents #                           0\n",
       "Advanced Regents % of cohort                 0\n",
       "Advanced Regents % of grads                  0\n",
       "Regents w/o Advanced #                       0\n",
       "Regents w/o Advanced      % of cohort        0\n",
       "Regents w/o Advanced           % of grads    0\n",
       "Local #                                      0\n",
       "Local % of cohort                            0\n",
       "Local % of grads                             0\n",
       "Still Enrolled #                             0\n",
       "Still Enrolled % of cohort                   0\n",
       "Dropped Out #                                0\n",
       "Dropped Out % of cohort                      0\n",
       "dtype: int64"
      ]
     },
     "execution_count": 5,
     "metadata": {},
     "output_type": "execute_result"
    }
   ],
   "source": [
    "graduationDistrictDf.isna().sum()"
   ]
  },
  {
   "cell_type": "markdown",
   "metadata": {},
   "source": [
    "## Focusing on Year 2010"
   ]
  },
  {
   "cell_type": "code",
   "execution_count": 6,
   "metadata": {},
   "outputs": [],
   "source": [
    "importantColumns = ['District','Cohort Year','Total Cohort #','Total Grads #','Total Grads % of cohort',\n",
    "                   'Still Enrolled #','Still Enrolled % of cohort','Dropped Out #','Dropped Out % of cohort'] \n",
    "graduationDistrictDfFilterBy2010 = graduationDistrictDf[graduationDistrictDf['Cohort Year']==2010][importantColumns]"
   ]
  },
  {
   "cell_type": "markdown",
   "metadata": {},
   "source": [
    "Do high school graduation rates with district demographic"
   ]
  },
  {
   "cell_type": "markdown",
   "metadata": {},
   "source": [
    "## Which district has the highest graduation and highest drop out in year 2010?"
   ]
  },
  {
   "cell_type": "code",
   "execution_count": 7,
   "metadata": {},
   "outputs": [],
   "source": [
    "graduationRateFiltered = graduationDistrictDfFilterBy2010.groupby('District',as_index=False).mean() \\\n",
    ".sort_values(['Total Grads % of cohort'],ascending=False)"
   ]
  },
  {
   "cell_type": "code",
   "execution_count": 8,
   "metadata": {},
   "outputs": [
    {
     "data": {
      "text/plain": [
       "<matplotlib.axes._subplots.AxesSubplot at 0x105b1f908>"
      ]
     },
     "execution_count": 8,
     "metadata": {},
     "output_type": "execute_result"
    },
    {
     "data": {
      "image/png": "[encoded data removed]",
      "text/plain": [
       "<Figure size 432x288 with 1 Axes>"
      ]
     },
     "metadata": {
      "needs_background": "light"
     },
     "output_type": "display_data"
    }
   ],
   "source": [
    "NUM_OF_DISTRICT_BAR_PLOT = 5\n",
    "sns.barplot(x=graduationRateFiltered[:NUM_OF_DISTRICT_BAR_PLOT]['District'],\n",
    "            y=graduationRateFiltered[:NUM_OF_DISTRICT_BAR_PLOT]['Total Grads % of cohort'],\n",
    "            order=graduationRateFiltered[:NUM_OF_DISTRICT_BAR_PLOT]['District'])"
   ]
  },
  {
   "cell_type": "markdown",
   "metadata": {},
   "source": [
    "### What are some schools in District 13?"
   ]
  },
  {
   "cell_type": "code",
   "execution_count": 10,
   "metadata": {},
   "outputs": [
    {
     "data": {
      "text/plain": [
       "['DR. SUSAN S. MCKINNEY SECONDARY SCHOOL OF THE ARTS',\n",
       " 'ACADEMY OF BUSINESS AND COMMUNITY DEVELOPMENT',\n",
       " 'URBAN ASSEMBLY HIGH SCHOOL OF MUSIC AND ART',\n",
       " 'BROOKLYN COMMUNITY HIGH SCHOOL OF COMMUNICATION, ARTS AND MEDIA',\n",
       " 'SCIENCE SKILLS CENTER HIGH SCHOOL FOR SCIENCE, TECHNOLOGY AND THE CREATIVE ARTS',\n",
       " 'BROOKLYN TECHNICAL HIGH SCHOOL',\n",
       " 'BROOKLYN INTERNATIONAL HIGH SCHOOL',\n",
       " 'THE URBAN ASSEMBLY SCHOOL FOR LAW AND JUSTICE',\n",
       " 'ACORN COMMUNITY HIGH SCHOOL',\n",
       " 'FREEDOM ACADEMY HIGH SCHOOL',\n",
       " 'URBAN ASSEMBLY INSTITUTE OF MATH AND SCIENCE FOR YOUNG WOMEN',\n",
       " 'BROOKLYN ACADEMY HIGH SCHOOL',\n",
       " 'BEDFORD STUYVESANT PREPARATORY HIGH SCHOOL',\n",
       " 'BEDFORD ACADEMY HIGH SCHOOL',\n",
       " 'GEORGE WESTINGHOUSE CAREER AND TECHNICAL EDUCATION HIGH SCHOOL',\n",
       " 'BROOKLYN HIGH SCHOOL FOR LEADERSHIP AND COMMUNITY SERVICE',\n",
       " 'BENJAMIN BANNEKER ACADEMY',\n",
       " 'CITY POLYTECHNIC HIGH SCHOOL OF ENGINEERING, ARCHITECTURE, AND TECHNOLOGY']"
      ]
     },
     "execution_count": 10,
     "metadata": {},
     "output_type": "execute_result"
    }
   ],
   "source": [
    "get_SchoolsByDistrict(13)"
   ]
  },
  {
   "cell_type": "markdown",
   "metadata": {},
   "source": [
    "**Should we filter out specialized HS?**"
   ]
  },
  {
   "cell_type": "code",
   "execution_count": 11,
   "metadata": {},
   "outputs": [],
   "source": [
    "dropOutRateFiltered = graduationDistrictDfFilterBy2010.groupby('District',as_index=False).mean() \\\n",
    ".sort_values(['Dropped Out % of cohort'],ascending=False)"
   ]
  },
  {
   "cell_type": "code",
   "execution_count": 12,
   "metadata": {},
   "outputs": [
    {
     "data": {
      "text/plain": [
       "<matplotlib.axes._subplots.AxesSubplot at 0x121adc160>"
      ]
     },
     "execution_count": 12,
     "metadata": {},
     "output_type": "execute_result"
    },
    {
     "data": {
      "image/png": "[encoded data removed]",
      "text/plain": [
       "<Figure size 432x288 with 1 Axes>"
      ]
     },
     "metadata": {
      "needs_background": "light"
     },
     "output_type": "display_data"
    }
   ],
   "source": [
    "sns.barplot(x=dropOutRateFiltered[:NUM_OF_DISTRICT_BAR_PLOT]['District'],\n",
    "            y=dropOutRateFiltered[:NUM_OF_DISTRICT_BAR_PLOT]['Dropped Out % of cohort'],\n",
    "           order=dropOutRateFiltered[:NUM_OF_DISTRICT_BAR_PLOT]['District'])"
   ]
  },
  {
   "cell_type": "markdown",
   "metadata": {},
   "source": [
    "### What are some schools in District 8?"
   ]
  },
  {
   "cell_type": "code",
   "execution_count": 13,
   "metadata": {},
   "outputs": [
    {
     "data": {
      "text/plain": [
       "['BRONX STUDIO SCHOOL FOR WRITERS AND ARTISTS',\n",
       " \"WOMEN'S ACADEMY OF EXCELLENCE\",\n",
       " 'RENAISSANCE HIGH SCHOOL FOR MUSICAL THEATER & TECHNOLOGY',\n",
       " 'GATEWAY SCHOOL FOR ENVIRONMENTAL RESEARCH AND TECHNOLOGY',\n",
       " 'PABLO NERUDA ACADEMY FOR ARCHITECTURE AND WORLD STUDIES',\n",
       " 'MILLENNIUM ART ACADEMY',\n",
       " 'HOLCOMBE L. RUCKER SCHOOL OF COMMUNITY RESEARCH',\n",
       " 'ARCHIMEDES ACADEMY FOR MATH, SCIENCE AND TECHNOLOGY APPLICATIONS',\n",
       " 'ANTONIA PANTOJA PREPARATORY ACADEMY, A COLLEGE BOARD SCHOOL',\n",
       " 'BRONX COMMUNITY HIGH SCHOOL',\n",
       " 'HERBERT H. LEHMAN HIGH SCHOOL',\n",
       " 'HERBERT H. LEHMAN YABC',\n",
       " 'BRONX BRIDGES HIGH SCHOOL',\n",
       " 'BRONX GUILD',\n",
       " 'STEVENSON YABC',\n",
       " 'FELISA RINCON DE GAUTIER INSTITUTE FOR LAW AND PUBLIC POLICY, THE',\n",
       " 'BANANA KELLY HIGH SCHOOL',\n",
       " 'BRONX ARENA HIGH SCHOOL',\n",
       " 'SCHOOL FOR COMMUNITY RESEARCH AND LEARNING',\n",
       " 'HIGH SCHOOL X560 s BRONX ACADEMY HIGH SCHOOL',\n",
       " 'JANE ADDAMS HIGH SCHOOL FOR ACADEMIC CAREERS']"
      ]
     },
     "execution_count": 13,
     "metadata": {},
     "output_type": "execute_result"
    }
   ],
   "source": [
    "get_SchoolsByDistrict(8)"
   ]
  },
  {
   "cell_type": "markdown",
   "metadata": {},
   "source": [
    "## TODO Plan: \n",
    "- Look graduation by Borough and see demographic for each borough\n",
    "- See more data on demographic connection \n",
    "- Later connect these findings to ML models\n"
   ]
  },
  {
   "cell_type": "code",
   "execution_count": null,
   "metadata": {},
   "outputs": [],
   "source": []
  }
 ],
 "metadata": {
  "kernelspec": {
   "display_name": "Python 3",
   "language": "python",
   "name": "python3"
  },
  "language_info": {
   "codemirror_mode": {
    "name": "ipython",
    "version": 3
   },
   "file_extension": ".py",
   "mimetype": "text/x-python",
   "name": "python",
   "nbconvert_exporter": "python",
   "pygments_lexer": "ipython3",
   "version": "3.6.5"
  }
 },
 "nbformat": 4,
 "nbformat_minor": 2
}
