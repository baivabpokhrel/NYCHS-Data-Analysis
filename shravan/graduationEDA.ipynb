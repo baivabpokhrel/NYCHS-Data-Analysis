{
 "cells": [
  {
   "cell_type": "code",
   "execution_count": 1,
   "metadata": {},
   "outputs": [],
   "source": [
    "import sys\n",
    "sys.path.append(\"..\")"
   ]
  },
  {
   "cell_type": "code",
   "execution_count": 2,
   "metadata": {},
   "outputs": [],
   "source": [
    "import pandas as pd\n",
    "import numpy as np\n",
    "import seaborn as sns\n",
    "import matplotlib.pyplot as plt\n",
    "from datasets import *"
   ]
  },
  {
   "cell_type": "code",
   "execution_count": 3,
   "metadata": {},
   "outputs": [],
   "source": [
    "graduationDistrictDf = get_Graduation(filterBy='district')"
   ]
  },
  {
   "cell_type": "code",
   "execution_count": 4,
   "metadata": {},
   "outputs": [
    {
     "data": {
      "text/plain": [
       "['District',\n",
       " 'Cohort Year',\n",
       " 'Cohort Category',\n",
       " 'Total Cohort #',\n",
       " 'Total Grads #',\n",
       " 'Total Grads % of cohort',\n",
       " 'Total Regents #',\n",
       " 'Total Regents % of cohort',\n",
       " 'Total Regents % of grads',\n",
       " 'Advanced Regents #',\n",
       " 'Advanced Regents % of cohort',\n",
       " 'Advanced Regents % of grads',\n",
       " 'Regents w/o Advanced #',\n",
       " 'Regents w/o Advanced      % of cohort',\n",
       " 'Regents w/o Advanced           % of grads',\n",
       " 'Local #',\n",
       " 'Local % of cohort',\n",
       " 'Local % of grads',\n",
       " 'Still Enrolled #',\n",
       " 'Still Enrolled % of cohort',\n",
       " 'Dropped Out #',\n",
       " 'Dropped Out % of cohort']"
      ]
     },
     "execution_count": 4,
     "metadata": {},
     "output_type": "execute_result"
    }
   ],
   "source": [
    "list(graduationDistrictDf)"
   ]
  },
  {
   "cell_type": "code",
   "execution_count": 5,
   "metadata": {},
   "outputs": [
    {
     "data": {
      "text/plain": [
       "District                                     0\n",
       "Cohort Year                                  0\n",
       "Cohort Category                              0\n",
       "Total Cohort #                               0\n",
       "Total Grads #                                0\n",
       "Total Grads % of cohort                      0\n",
       "Total Regents #                              0\n",
       "Total Regents % of cohort                    0\n",
       "Total Regents % of grads                     0\n",
       "Advanced Regents #                           0\n",
       "Advanced Regents % of cohort                 0\n",
       "Advanced Regents % of grads                  0\n",
       "Regents w/o Advanced #                       0\n",
       "Regents w/o Advanced      % of cohort        0\n",
       "Regents w/o Advanced           % of grads    0\n",
       "Local #                                      0\n",
       "Local % of cohort                            0\n",
       "Local % of grads                             0\n",
       "Still Enrolled #                             0\n",
       "Still Enrolled % of cohort                   0\n",
       "Dropped Out #                                0\n",
       "Dropped Out % of cohort                      0\n",
       "dtype: int64"
      ]
     },
     "execution_count": 5,
     "metadata": {},
     "output_type": "execute_result"
    }
   ],
   "source": [
    "graduationDistrictDf.isna().sum()"
   ]
  },
  {
   "cell_type": "markdown",
   "metadata": {},
   "source": [
    "## Taking all year into account"
   ]
  },
  {
   "cell_type": "code",
   "execution_count": 6,
   "metadata": {},
   "outputs": [],
   "source": [
    "importantColumns = ['District','Cohort Year','Total Cohort #','Total Grads #','Total Grads % of cohort',\n",
    "                   'Still Enrolled #','Still Enrolled % of cohort','Dropped Out #','Dropped Out % of cohort'] \n",
    "graduationDistrictDfFilter = graduationDistrictDf[importantColumns]\n",
    "\n"
   ]
  },
  {
   "cell_type": "code",
   "execution_count": 7,
   "metadata": {},
   "outputs": [
    {
     "data": {
      "text/plain": [
       "array([2001, 2002, 2003, 2004, 2005, 2006, 2007, 2008, 2009, 2010, 2011])"
      ]
     },
     "execution_count": 7,
     "metadata": {},
     "output_type": "execute_result"
    }
   ],
   "source": [
    "graduationDistrictDfFilter['Cohort Year'].unique()"
   ]
  },
  {
   "cell_type": "markdown",
   "metadata": {},
   "source": [
    "Do high school graduation rates with district demographic"
   ]
  },
  {
   "cell_type": "markdown",
   "metadata": {},
   "source": [
    "## Which district has the highest graduation and highest drop out?"
   ]
  },
  {
   "cell_type": "markdown",
   "metadata": {},
   "source": [
    "## Graduation Rate Analysis"
   ]
  },
  {
   "cell_type": "code",
   "execution_count": 8,
   "metadata": {},
   "outputs": [],
   "source": [
    "graduationRateFiltered = graduationDistrictDfFilter.groupby('District',as_index=False).mean() \\\n",
    ".sort_values(['Total Grads % of cohort'],ascending=False)"
   ]
  },
  {
   "cell_type": "code",
   "execution_count": 9,
   "metadata": {},
   "outputs": [
    {
     "data": {
      "text/plain": [
       "<matplotlib.axes._subplots.AxesSubplot at 0x105a155c0>"
      ]
     },
     "execution_count": 9,
     "metadata": {},
     "output_type": "execute_result"
    },
    {
     "data": {
      "image/png": "[encoded data removed]",
      "text/plain": [
       "<Figure size 432x288 with 1 Axes>"
      ]
     },
     "metadata": {
      "needs_background": "light"
     },
     "output_type": "display_data"
    }
   ],
   "source": [
    "NUM_OF_DISTRICT_BAR_PLOT = 5\n",
    "sns.barplot(x=graduationRateFiltered[:NUM_OF_DISTRICT_BAR_PLOT]['District'],\n",
    "            y=graduationRateFiltered[:NUM_OF_DISTRICT_BAR_PLOT]['Total Grads % of cohort'],\n",
    "            order=graduationRateFiltered[:NUM_OF_DISTRICT_BAR_PLOT]['District'])"
   ]
  },
  {
   "cell_type": "markdown",
   "metadata": {},
   "source": [
    "### What are some schools in District 26?"
   ]
  },
  {
   "cell_type": "code",
   "execution_count": 10,
   "metadata": {},
   "outputs": [
    {
     "data": {
      "text/plain": [
       "['BENJAMIN N. CARDOZO HIGH SCHOOL',\n",
       " 'FRANCIS LEWIS HIGH SCHOOL',\n",
       " 'MARTIN VAN BUREN HIGH SCHOOL',\n",
       " 'BAYSIDE HIGH SCHOOL',\n",
       " 'QUEENS HIGH SCHOOL OF TEACHING, LIBERAL ARTS AND THE SCIENCES']"
      ]
     },
     "execution_count": 10,
     "metadata": {},
     "output_type": "execute_result"
    }
   ],
   "source": [
    "get_SchoolsByDistrict(26)"
   ]
  },
  {
   "cell_type": "markdown",
   "metadata": {},
   "source": [
    "## Narrowing it down by schools"
   ]
  },
  {
   "cell_type": "markdown",
   "metadata": {},
   "source": [
    "Sometime a really good school may move the average up for a poor school as well within the district."
   ]
  },
  {
   "cell_type": "code",
   "execution_count": 11,
   "metadata": {},
   "outputs": [],
   "source": [
    "schoolDf = get_Graduation(filterBy='school')\n",
    "#graduationSchoolDf[graduationSchoolDf['School']=='BENJAMIN N. CARDOZO HIGH SCHOOL']"
   ]
  },
  {
   "cell_type": "code",
   "execution_count": 12,
   "metadata": {},
   "outputs": [
    {
     "name": "stderr",
     "output_type": "stream",
     "text": [
      "/Users/shravan/Desktop/NYCHS-Data-Analysis/shravan/lib/python3.6/site-packages/pandas/core/ops.py:1649: FutureWarning: elementwise comparison failed; returning scalar instead, but in the future will perform elementwise comparison\n",
      "  result = method(y)\n"
     ]
    }
   ],
   "source": [
    "schoolDf = schoolDf[schoolDf!='s'].dropna()\n",
    "#graduationSchoolDf.groupby(['School','Cohort Year','Total Grads % of cohort'],as_index=False).mean()"
   ]
  },
  {
   "cell_type": "code",
   "execution_count": 13,
   "metadata": {},
   "outputs": [
    {
     "data": {
      "text/plain": [
       "['DBN',\n",
       " 'School',\n",
       " 'Cohort Year',\n",
       " 'Cohort Category',\n",
       " 'Total Cohort #',\n",
       " 'Total Grads #',\n",
       " 'Total Grads   % of cohort',\n",
       " 'Total Regents #',\n",
       " 'Total Regents    % of cohort',\n",
       " 'Total Regents   % of grads',\n",
       " 'Advanced Regents #',\n",
       " 'Advanced   Regents   % of cohort',\n",
       " 'Advanced Regents    % of grads',\n",
       " 'Regents w/o Advanced  #',\n",
       " 'Regents w/o Advanced                          % of cohort',\n",
       " 'Regents w/o Advanced        % of grads',\n",
       " 'Local  #',\n",
       " 'Local   % of cohort',\n",
       " 'Local   % of grads',\n",
       " 'Still Enrolled #',\n",
       " 'Still Enrolled    % of cohort',\n",
       " 'Dropped Out  #',\n",
       " 'Dropped Out    % of cohort']"
      ]
     },
     "execution_count": 13,
     "metadata": {},
     "output_type": "execute_result"
    }
   ],
   "source": [
    "list(schoolDf)"
   ]
  },
  {
   "cell_type": "code",
   "execution_count": 14,
   "metadata": {},
   "outputs": [],
   "source": [
    "tmpCol = ['DBN','School','Cohort Year','Total Grads   % of cohort','Dropped Out    % of cohort']\n",
    "schoolDf=schoolDf[tmpCol]"
   ]
  },
  {
   "cell_type": "code",
   "execution_count": 15,
   "metadata": {},
   "outputs": [],
   "source": [
    "schoolDf['Total Grads   % of cohort'] = pd.to_numeric(\n",
    "    schoolDf['Total Grads   % of cohort'].str.replace('%', ''))\n",
    "schoolDf['Dropped Out    % of cohort'] = pd.to_numeric(\n",
    "    schoolDf['Dropped Out    % of cohort'].str.replace('%', ''))\n",
    "schoolDf['Cohort Year'] = pd.to_numeric(\n",
    "    schoolDf['Cohort Year'])"
   ]
  },
  {
   "cell_type": "code",
   "execution_count": 16,
   "metadata": {
    "scrolled": true
   },
   "outputs": [],
   "source": [
    "schoolFiltered = schoolDf.groupby(['DBN','School','Cohort Year'],as_index=False).agg({\n",
    "    'Total Grads   % of cohort':np.mean,'Dropped Out    % of cohort':np.mean\n",
    "})"
   ]
  },
  {
   "cell_type": "code",
   "execution_count": 17,
   "metadata": {},
   "outputs": [
    {
     "data": {
      "text/html": [
       "<div>\n",
       "<style scoped>\n",
       "    .dataframe tbody tr th:only-of-type {\n",
       "        vertical-align: middle;\n",
       "    }\n",
       "\n",
       "    .dataframe tbody tr th {\n",
       "        vertical-align: top;\n",
       "    }\n",
       "\n",
       "    .dataframe thead th {\n",
       "        text-align: right;\n",
       "    }\n",
       "</style>\n",
       "<table border=\"1\" class=\"dataframe\">\n",
       "  <thead>\n",
       "    <tr style=\"text-align: right;\">\n",
       "      <th></th>\n",
       "      <th>DBN</th>\n",
       "      <th>School</th>\n",
       "      <th>Cohort Year</th>\n",
       "      <th>Total Grads   % of cohort</th>\n",
       "      <th>Dropped Out    % of cohort</th>\n",
       "    </tr>\n",
       "  </thead>\n",
       "  <tbody>\n",
       "    <tr>\n",
       "      <th>0</th>\n",
       "      <td>01M292</td>\n",
       "      <td>HENRY STREET SCHOOL FOR INTERNATIONAL STUDIES</td>\n",
       "      <td>2004</td>\n",
       "      <td>69.233333</td>\n",
       "      <td>16.433333</td>\n",
       "    </tr>\n",
       "    <tr>\n",
       "      <th>1</th>\n",
       "      <td>01M292</td>\n",
       "      <td>HENRY STREET SCHOOL FOR INTERNATIONAL STUDIES</td>\n",
       "      <td>2005</td>\n",
       "      <td>69.500000</td>\n",
       "      <td>15.450000</td>\n",
       "    </tr>\n",
       "    <tr>\n",
       "      <th>2</th>\n",
       "      <td>01M292</td>\n",
       "      <td>HENRY STREET SCHOOL FOR INTERNATIONAL STUDIES</td>\n",
       "      <td>2006</td>\n",
       "      <td>59.160000</td>\n",
       "      <td>22.120000</td>\n",
       "    </tr>\n",
       "  </tbody>\n",
       "</table>\n",
       "</div>"
      ],
      "text/plain": [
       "      DBN                                         School  Cohort Year  \\\n",
       "0  01M292  HENRY STREET SCHOOL FOR INTERNATIONAL STUDIES         2004   \n",
       "1  01M292  HENRY STREET SCHOOL FOR INTERNATIONAL STUDIES         2005   \n",
       "2  01M292  HENRY STREET SCHOOL FOR INTERNATIONAL STUDIES         2006   \n",
       "\n",
       "   Total Grads   % of cohort  Dropped Out    % of cohort  \n",
       "0                  69.233333                   16.433333  \n",
       "1                  69.500000                   15.450000  \n",
       "2                  59.160000                   22.120000  "
      ]
     },
     "execution_count": 17,
     "metadata": {},
     "output_type": "execute_result"
    }
   ],
   "source": [
    "schoolFiltered.head(3)"
   ]
  },
  {
   "cell_type": "code",
   "execution_count": 18,
   "metadata": {},
   "outputs": [],
   "source": [
    "schoolFiltered = schoolDf.groupby(['DBN','School'],as_index=False).agg({\n",
    "    'Total Grads   % of cohort':np.mean,'Dropped Out    % of cohort':np.mean\n",
    "})"
   ]
  },
  {
   "cell_type": "code",
   "execution_count": 19,
   "metadata": {},
   "outputs": [],
   "source": [
    "graduationRateFiltered = schoolFiltered.sort_values(['Total Grads   % of cohort'],ascending=False)"
   ]
  },
  {
   "cell_type": "code",
   "execution_count": 20,
   "metadata": {},
   "outputs": [
    {
     "data": {
      "text/plain": [
       "<matplotlib.axes._subplots.AxesSubplot at 0x1264b0940>"
      ]
     },
     "execution_count": 20,
     "metadata": {},
     "output_type": "execute_result"
    },
    {
     "data": {
      "image/png": "[encoded data removed]",
      "text/plain": [
       "<Figure size 432x288 with 1 Axes>"
      ]
     },
     "metadata": {
      "needs_background": "light"
     },
     "output_type": "display_data"
    }
   ],
   "source": [
    "NUM_OF_DISTRICT_BAR_PLOT = 20\n",
    "sns.barplot(y=graduationRateFiltered[:NUM_OF_DISTRICT_BAR_PLOT]['School'],\n",
    "            x=graduationRateFiltered[:NUM_OF_DISTRICT_BAR_PLOT]['Total Grads   % of cohort'],\n",
    "            order=graduationRateFiltered[:NUM_OF_DISTRICT_BAR_PLOT]['School'])"
   ]
  },
  {
   "cell_type": "markdown",
   "metadata": {},
   "source": [
    "The result makes sense"
   ]
  },
  {
   "cell_type": "markdown",
   "metadata": {},
   "source": [
    "## Drop Out Rate Analysis"
   ]
  },
  {
   "cell_type": "code",
   "execution_count": 21,
   "metadata": {},
   "outputs": [],
   "source": [
    "dropOutRateFiltered = graduationDistrictDfFilter.groupby('District',as_index=False).mean() \\\n",
    ".sort_values(['Dropped Out % of cohort'],ascending=False)"
   ]
  },
  {
   "cell_type": "code",
   "execution_count": 22,
   "metadata": {},
   "outputs": [
    {
     "data": {
      "text/plain": [
       "<matplotlib.axes._subplots.AxesSubplot at 0x121ecd6a0>"
      ]
     },
     "execution_count": 22,
     "metadata": {},
     "output_type": "execute_result"
    },
    {
     "data": {
      "image/png": "[encoded data removed]",
      "text/plain": [
       "<Figure size 432x288 with 1 Axes>"
      ]
     },
     "metadata": {
      "needs_background": "light"
     },
     "output_type": "display_data"
    }
   ],
   "source": [
    "NUM_OF_DISTRICT_BAR_PLOT = 5\n",
    "sns.barplot(x=dropOutRateFiltered[:NUM_OF_DISTRICT_BAR_PLOT]['District'],\n",
    "            y=dropOutRateFiltered[:NUM_OF_DISTRICT_BAR_PLOT]['Dropped Out % of cohort'],\n",
    "           order=dropOutRateFiltered[:NUM_OF_DISTRICT_BAR_PLOT]['District'])"
   ]
  },
  {
   "cell_type": "markdown",
   "metadata": {},
   "source": [
    "### What are some schools in District 8?"
   ]
  },
  {
   "cell_type": "code",
   "execution_count": 23,
   "metadata": {},
   "outputs": [
    {
     "data": {
      "text/plain": [
       "['ACADEMY FOR ENVIRONMENTAL LEADERSHIP',\n",
       " 'EBC HIGH SCHOOL FOR PUBLIC SERVICE–BUSHWICK',\n",
       " 'BUSHWICK SCHOOL FOR SOCIAL JUSTICE',\n",
       " 'ACADEMY OF URBAN PLANNING',\n",
       " 'ALL CITY LEADERSHIP SECONDARY SCHOOL',\n",
       " 'BUSHWICK LEADERS HIGH SCHOOL FOR ACADEMIC EXCELLENCE',\n",
       " 'BUSHWICK COMMUNITY HIGH SCHOOL']"
      ]
     },
     "execution_count": 23,
     "metadata": {},
     "output_type": "execute_result"
    }
   ],
   "source": [
    "get_SchoolsByDistrict(32)"
   ]
  },
  {
   "cell_type": "markdown",
   "metadata": {},
   "source": [
    "### Looking at Individual School"
   ]
  },
  {
   "cell_type": "code",
   "execution_count": 24,
   "metadata": {},
   "outputs": [],
   "source": [
    "dropOutRateFiltered = schoolFiltered.sort_values(['Dropped Out    % of cohort'],ascending=False)"
   ]
  },
  {
   "cell_type": "code",
   "execution_count": 25,
   "metadata": {},
   "outputs": [
    {
     "data": {
      "text/plain": [
       "<matplotlib.axes._subplots.AxesSubplot at 0x1214a1b70>"
      ]
     },
     "execution_count": 25,
     "metadata": {},
     "output_type": "execute_result"
    },
    {
     "data": {
      "image/png": "[encoded data removed]",
      "text/plain": [
       "<Figure size 432x288 with 1 Axes>"
      ]
     },
     "metadata": {
      "needs_background": "light"
     },
     "output_type": "display_data"
    }
   ],
   "source": [
    "NUM_OF_DISTRICT_BAR_PLOT = 10\n",
    "sns.barplot(y=dropOutRateFiltered[:NUM_OF_DISTRICT_BAR_PLOT]['School'],\n",
    "            x=dropOutRateFiltered[:NUM_OF_DISTRICT_BAR_PLOT]['Dropped Out    % of cohort'],\n",
    "           order=dropOutRateFiltered[:NUM_OF_DISTRICT_BAR_PLOT]['School'])"
   ]
  },
  {
   "cell_type": "markdown",
   "metadata": {},
   "source": [
    "## Looking at Demographic"
   ]
  },
  {
   "cell_type": "code",
   "execution_count": 26,
   "metadata": {},
   "outputs": [],
   "source": [
    "graduationDemographicDf= get_Graduation('demographic')"
   ]
  },
  {
   "cell_type": "code",
   "execution_count": 27,
   "metadata": {},
   "outputs": [
    {
     "data": {
      "text/plain": [
       "['Cohort Year',\n",
       " 'Cohort Category',\n",
       " 'Demographic',\n",
       " '# Total Cohort',\n",
       " '# Total Grads',\n",
       " '% of cohort Total Grads',\n",
       " '# of cohort Total Grads',\n",
       " '% of cohort Total Regents',\n",
       " '% of grads  Total Regents',\n",
       " '# of grads  Total Regents',\n",
       " '% of cohort  Advanced Regents',\n",
       " '% of grads  Advanced Regents',\n",
       " '# of grads  Advanced Regents',\n",
       " '% of cohort  Regents w/o Advanced',\n",
       " '% of grads  Regents w/o Advanced',\n",
       " '# of grads  Regents w/o Advanced',\n",
       " '% of cohort Local',\n",
       " '% of grads Local',\n",
       " '# Still Enrolled',\n",
       " '% of cohort Still Enrolled',\n",
       " '# Dropped Out',\n",
       " '% of cohort Dropped Out']"
      ]
     },
     "execution_count": 27,
     "metadata": {},
     "output_type": "execute_result"
    }
   ],
   "source": [
    "list(graduationDemographicDf)"
   ]
  },
  {
   "cell_type": "code",
   "execution_count": 28,
   "metadata": {},
   "outputs": [
    {
     "data": {
      "text/html": [
       "<div>\n",
       "<style scoped>\n",
       "    .dataframe tbody tr th:only-of-type {\n",
       "        vertical-align: middle;\n",
       "    }\n",
       "\n",
       "    .dataframe tbody tr th {\n",
       "        vertical-align: top;\n",
       "    }\n",
       "\n",
       "    .dataframe thead th {\n",
       "        text-align: right;\n",
       "    }\n",
       "</style>\n",
       "<table border=\"1\" class=\"dataframe\">\n",
       "  <thead>\n",
       "    <tr style=\"text-align: right;\">\n",
       "      <th></th>\n",
       "      <th>Cohort Year</th>\n",
       "      <th>Cohort Category</th>\n",
       "      <th>Demographic</th>\n",
       "      <th># Total Cohort</th>\n",
       "      <th># Total Grads</th>\n",
       "      <th>% of cohort Total Grads</th>\n",
       "      <th># of cohort Total Grads</th>\n",
       "      <th>% of cohort Total Regents</th>\n",
       "      <th>% of grads  Total Regents</th>\n",
       "      <th># of grads  Total Regents</th>\n",
       "      <th>...</th>\n",
       "      <th># of grads  Advanced Regents</th>\n",
       "      <th>% of cohort  Regents w/o Advanced</th>\n",
       "      <th>% of grads  Regents w/o Advanced</th>\n",
       "      <th># of grads  Regents w/o Advanced</th>\n",
       "      <th>% of cohort Local</th>\n",
       "      <th>% of grads Local</th>\n",
       "      <th># Still Enrolled</th>\n",
       "      <th>% of cohort Still Enrolled</th>\n",
       "      <th># Dropped Out</th>\n",
       "      <th>% of cohort Dropped Out</th>\n",
       "    </tr>\n",
       "  </thead>\n",
       "  <tbody>\n",
       "    <tr>\n",
       "      <th>0</th>\n",
       "      <td>2001</td>\n",
       "      <td>4 Year  June</td>\n",
       "      <td>English Language Learner</td>\n",
       "      <td>10540</td>\n",
       "      <td>2791</td>\n",
       "      <td>26.5</td>\n",
       "      <td>992</td>\n",
       "      <td>9.0</td>\n",
       "      <td>35.5</td>\n",
       "      <td>315.0</td>\n",
       "      <td>...</td>\n",
       "      <td>677.0</td>\n",
       "      <td>6.4</td>\n",
       "      <td>24.3</td>\n",
       "      <td>1803</td>\n",
       "      <td>17.1</td>\n",
       "      <td>64.6</td>\n",
       "      <td>3895</td>\n",
       "      <td>37.0</td>\n",
       "      <td>3220</td>\n",
       "      <td>30.6</td>\n",
       "    </tr>\n",
       "  </tbody>\n",
       "</table>\n",
       "<p>1 rows × 22 columns</p>\n",
       "</div>"
      ],
      "text/plain": [
       "   Cohort Year Cohort Category               Demographic  # Total Cohort  \\\n",
       "0         2001    4 Year  June  English Language Learner           10540   \n",
       "\n",
       "   # Total Grads  % of cohort Total Grads  # of cohort Total Grads  \\\n",
       "0           2791                     26.5                      992   \n",
       "\n",
       "   % of cohort Total Regents  % of grads  Total Regents  \\\n",
       "0                        9.0                       35.5   \n",
       "\n",
       "   # of grads  Total Regents  ...  # of grads  Advanced Regents  \\\n",
       "0                      315.0  ...                         677.0   \n",
       "\n",
       "   % of cohort  Regents w/o Advanced  % of grads  Regents w/o Advanced  \\\n",
       "0                                6.4                              24.3   \n",
       "\n",
       "   # of grads  Regents w/o Advanced  % of cohort Local  % of grads Local  \\\n",
       "0                              1803               17.1              64.6   \n",
       "\n",
       "   # Still Enrolled  % of cohort Still Enrolled  # Dropped Out  \\\n",
       "0              3895                        37.0           3220   \n",
       "\n",
       "   % of cohort Dropped Out  \n",
       "0                     30.6  \n",
       "\n",
       "[1 rows x 22 columns]"
      ]
     },
     "execution_count": 28,
     "metadata": {},
     "output_type": "execute_result"
    }
   ],
   "source": [
    "graduationDemographicDf.head(1)"
   ]
  },
  {
   "cell_type": "code",
   "execution_count": 29,
   "metadata": {},
   "outputs": [],
   "source": [
    "# graduationDemographicDf = graduationDemographicDf.groupby('Demographic',as_index=False).agg({\n",
    "#     '% of cohort Total Grads':np.mean,'% of cohort Dropped Out':np.mean\n",
    "# })"
   ]
  },
  {
   "cell_type": "markdown",
   "metadata": {},
   "source": [
    "### Male vs Female Graduation Rate"
   ]
  },
  {
   "cell_type": "code",
   "execution_count": 30,
   "metadata": {},
   "outputs": [],
   "source": [
    "maleGradRate = graduationDemographicDf[graduationDemographicDf['Demographic']=='Male']\n",
    "femaleGradRate = graduationDemographicDf[graduationDemographicDf['Demographic']=='Female']"
   ]
  },
  {
   "cell_type": "code",
   "execution_count": 31,
   "metadata": {},
   "outputs": [
    {
     "data": {
      "text/plain": [
       "<matplotlib.axes._subplots.AxesSubplot at 0x124748c50>"
      ]
     },
     "execution_count": 31,
     "metadata": {},
     "output_type": "execute_result"
    },
    {
     "data": {
      "image/png": "[encoded data removed]",
      "text/plain": [
       "<Figure size 432x288 with 1 Axes>"
      ]
     },
     "metadata": {
      "needs_background": "light"
     },
     "output_type": "display_data"
    }
   ],
   "source": [
    "sns.barplot(x=['Male','Female'],\n",
    "            y=[maleGradRate['% of cohort Total Grads'].mean(),femaleGradRate['% of cohort Total Grads'].mean()])"
   ]
  },
  {
   "cell_type": "code",
   "execution_count": 32,
   "metadata": {},
   "outputs": [
    {
     "data": {
      "text/plain": [
       "10.73023255813952"
      ]
     },
     "execution_count": 32,
     "metadata": {},
     "output_type": "execute_result"
    }
   ],
   "source": [
    "femaleGradRate['% of cohort Total Grads'].mean()-maleGradRate['% of cohort Total Grads'].mean()"
   ]
  },
  {
   "cell_type": "markdown",
   "metadata": {},
   "source": [
    "More than 10% females graduated high school as compared to males from year 2001-2011."
   ]
  },
  {
   "cell_type": "markdown",
   "metadata": {},
   "source": [
    "### Drop Out and Graduation Rate for Different Demographics"
   ]
  },
  {
   "cell_type": "code",
   "execution_count": 33,
   "metadata": {},
   "outputs": [
    {
     "data": {
      "text/plain": [
       "array(['English Language Learner', 'Male', 'English Language Proficient',\n",
       "       'Not Student with Disability', 'Student with Disability', 'Asian',\n",
       "       'Black', 'Hispanic', 'White', 'Female'], dtype=object)"
      ]
     },
     "execution_count": 33,
     "metadata": {},
     "output_type": "execute_result"
    }
   ],
   "source": [
    "graduationDemographicDf['Demographic'].unique()"
   ]
  },
  {
   "cell_type": "code",
   "execution_count": 34,
   "metadata": {},
   "outputs": [],
   "source": [
    "asianGraduationDemographicDf = graduationDemographicDf[graduationDemographicDf['Demographic']=='Asian']\n",
    "blackGraduationDemographicDf = graduationDemographicDf[graduationDemographicDf['Demographic']=='Black']\n",
    "hispanicGraduationDemographicDf = graduationDemographicDf[graduationDemographicDf['Demographic']=='Hispanic']\n",
    "whiteGraduationDemographicDf = graduationDemographicDf[graduationDemographicDf['Demographic']=='White']\n"
   ]
  },
  {
   "cell_type": "code",
   "execution_count": 35,
   "metadata": {},
   "outputs": [
    {
     "data": {
      "image/png": "[encoded data removed]",
      "text/plain": [
       "<Figure size 432x288 with 1 Axes>"
      ]
     },
     "metadata": {
      "needs_background": "light"
     },
     "output_type": "display_data"
    }
   ],
   "source": [
    "ax = sns.barplot(y=['Asian','Black','Hispanic','White'],\n",
    "            x=[asianGraduationDemographicDf['% of cohort Dropped Out'].mean(),\n",
    "               blackGraduationDemographicDf['% of cohort Dropped Out'].mean(),\n",
    "               hispanicGraduationDemographicDf['% of cohort Dropped Out'].mean(),\n",
    "               whiteGraduationDemographicDf['% of cohort Dropped Out'].mean()\n",
    "              ]);\n",
    "ax.set(xlabel='Dropout %');"
   ]
  },
  {
   "cell_type": "code",
   "execution_count": 36,
   "metadata": {},
   "outputs": [
    {
     "data": {
      "image/png": "[encoded data removed]",
      "text/plain": [
       "<Figure size 432x288 with 1 Axes>"
      ]
     },
     "metadata": {
      "needs_background": "light"
     },
     "output_type": "display_data"
    }
   ],
   "source": [
    "ax = sns.barplot(y=['Asian','Black','Hispanic','White'],\n",
    "            x=[asianGraduationDemographicDf['% of cohort Total Grads'].mean(),\n",
    "               blackGraduationDemographicDf['% of cohort Total Grads'].mean(),\n",
    "               hispanicGraduationDemographicDf['% of cohort Total Grads'].mean(),\n",
    "               whiteGraduationDemographicDf['% of cohort Total Grads'].mean()\n",
    "              ]);\n",
    "ax.set(xlabel='Graduation %');"
   ]
  },
  {
   "cell_type": "markdown",
   "metadata": {},
   "source": [
    "## High School Rating Prediction "
   ]
  },
  {
   "cell_type": "markdown",
   "metadata": {},
   "source": [
    "### Preparing data"
   ]
  },
  {
   "cell_type": "code",
   "execution_count": 37,
   "metadata": {},
   "outputs": [],
   "source": [
    "highSchoolGradeDf = get_SchoolGrade()"
   ]
  },
  {
   "cell_type": "code",
   "execution_count": 38,
   "metadata": {},
   "outputs": [],
   "source": [
    "highSchoolGradeDf.dropna(inplace=True)"
   ]
  },
  {
   "cell_type": "markdown",
   "metadata": {},
   "source": [
    "#### We can move all these simple data preprocessing into the datasets.py script"
   ]
  },
  {
   "cell_type": "code",
   "execution_count": 39,
   "metadata": {},
   "outputs": [
    {
     "data": {
      "text/plain": [
       "['DBN', 'DISTRICT', 'SCHOOL', '2009-2010 OVERALL GRADE']"
      ]
     },
     "execution_count": 39,
     "metadata": {},
     "output_type": "execute_result"
    }
   ],
   "source": [
    "list(highSchoolGradeDf)"
   ]
  },
  {
   "cell_type": "code",
   "execution_count": 40,
   "metadata": {},
   "outputs": [],
   "source": [
    "satDf = get_SATScores('2012')"
   ]
  },
  {
   "cell_type": "code",
   "execution_count": 41,
   "metadata": {},
   "outputs": [],
   "source": [
    "satDf = satDf[satDf!='s']"
   ]
  },
  {
   "cell_type": "code",
   "execution_count": 42,
   "metadata": {},
   "outputs": [],
   "source": [
    "satDf.dropna(inplace=True)"
   ]
  },
  {
   "cell_type": "code",
   "execution_count": 43,
   "metadata": {},
   "outputs": [],
   "source": [
    "satDf.sat_critical_reading_avg_score = satDf.sat_critical_reading_avg_score.astype('int')\n",
    "satDf.sat_math_avg_score = satDf.sat_math_avg_score.astype('int')\n",
    "satDf.sat_writing_avg_score = satDf.sat_writing_avg_score.astype('int')"
   ]
  },
  {
   "cell_type": "code",
   "execution_count": 44,
   "metadata": {},
   "outputs": [],
   "source": [
    "satDf['combined_score'] = satDf['sat_critical_reading_avg_score'].astype('int')+satDf['sat_math_avg_score']+satDf['sat_writing_avg_score']\n",
    "satDf = satDf[['dbn','school_name','combined_score']]"
   ]
  },
  {
   "cell_type": "code",
   "execution_count": 45,
   "metadata": {},
   "outputs": [],
   "source": [
    "mergedDf = pd.merge(highSchoolGradeDf,satDf,left_on='DBN',right_on='dbn')"
   ]
  },
  {
   "cell_type": "code",
   "execution_count": 46,
   "metadata": {},
   "outputs": [],
   "source": [
    "mergedDf = mergedDf[['DBN','SCHOOL','combined_score','2009-2010 OVERALL GRADE']]"
   ]
  },
  {
   "cell_type": "code",
   "execution_count": 47,
   "metadata": {},
   "outputs": [
    {
     "data": {
      "text/html": [
       "<div>\n",
       "<style scoped>\n",
       "    .dataframe tbody tr th:only-of-type {\n",
       "        vertical-align: middle;\n",
       "    }\n",
       "\n",
       "    .dataframe tbody tr th {\n",
       "        vertical-align: top;\n",
       "    }\n",
       "\n",
       "    .dataframe thead th {\n",
       "        text-align: right;\n",
       "    }\n",
       "</style>\n",
       "<table border=\"1\" class=\"dataframe\">\n",
       "  <thead>\n",
       "    <tr style=\"text-align: right;\">\n",
       "      <th></th>\n",
       "      <th>DBN</th>\n",
       "      <th>SCHOOL</th>\n",
       "      <th>combined_score</th>\n",
       "      <th>2009-2010 OVERALL GRADE</th>\n",
       "    </tr>\n",
       "  </thead>\n",
       "  <tbody>\n",
       "    <tr>\n",
       "      <th>0</th>\n",
       "      <td>01M292</td>\n",
       "      <td>Henry Street School for International Studies</td>\n",
       "      <td>1122</td>\n",
       "      <td>D</td>\n",
       "    </tr>\n",
       "    <tr>\n",
       "      <th>1</th>\n",
       "      <td>01M448</td>\n",
       "      <td>University Neighborhood High School</td>\n",
       "      <td>1172</td>\n",
       "      <td>C</td>\n",
       "    </tr>\n",
       "    <tr>\n",
       "      <th>2</th>\n",
       "      <td>01M450</td>\n",
       "      <td>East Side Community School</td>\n",
       "      <td>1149</td>\n",
       "      <td>A</td>\n",
       "    </tr>\n",
       "    <tr>\n",
       "      <th>3</th>\n",
       "      <td>01M509</td>\n",
       "      <td>Marta Valle High School</td>\n",
       "      <td>1207</td>\n",
       "      <td>B</td>\n",
       "    </tr>\n",
       "    <tr>\n",
       "      <th>4</th>\n",
       "      <td>01M539</td>\n",
       "      <td>New Explorations into Science, Technology and ...</td>\n",
       "      <td>1621</td>\n",
       "      <td>B</td>\n",
       "    </tr>\n",
       "  </tbody>\n",
       "</table>\n",
       "</div>"
      ],
      "text/plain": [
       "      DBN                                             SCHOOL  combined_score  \\\n",
       "0  01M292      Henry Street School for International Studies            1122   \n",
       "1  01M448                University Neighborhood High School            1172   \n",
       "2  01M450                         East Side Community School            1149   \n",
       "3  01M509                            Marta Valle High School            1207   \n",
       "4  01M539  New Explorations into Science, Technology and ...            1621   \n",
       "\n",
       "  2009-2010 OVERALL GRADE  \n",
       "0                       D  \n",
       "1                       C  \n",
       "2                       A  \n",
       "3                       B  \n",
       "4                       B  "
      ]
     },
     "execution_count": 47,
     "metadata": {},
     "output_type": "execute_result"
    }
   ],
   "source": [
    "mergedDf.head()"
   ]
  },
  {
   "cell_type": "code",
   "execution_count": 48,
   "metadata": {},
   "outputs": [],
   "source": [
    "mergedDf = pd.merge(mergedDf,schoolFiltered[['DBN','Total Grads   % of cohort']],left_on='DBN',right_on='DBN')"
   ]
  },
  {
   "cell_type": "code",
   "execution_count": 49,
   "metadata": {},
   "outputs": [
    {
     "data": {
      "text/html": [
       "<div>\n",
       "<style scoped>\n",
       "    .dataframe tbody tr th:only-of-type {\n",
       "        vertical-align: middle;\n",
       "    }\n",
       "\n",
       "    .dataframe tbody tr th {\n",
       "        vertical-align: top;\n",
       "    }\n",
       "\n",
       "    .dataframe thead th {\n",
       "        text-align: right;\n",
       "    }\n",
       "</style>\n",
       "<table border=\"1\" class=\"dataframe\">\n",
       "  <thead>\n",
       "    <tr style=\"text-align: right;\">\n",
       "      <th></th>\n",
       "      <th>DBN</th>\n",
       "      <th>SCHOOL</th>\n",
       "      <th>combined_score</th>\n",
       "      <th>2009-2010 OVERALL GRADE</th>\n",
       "      <th>Total Grads   % of cohort</th>\n",
       "    </tr>\n",
       "  </thead>\n",
       "  <tbody>\n",
       "    <tr>\n",
       "      <th>0</th>\n",
       "      <td>01M292</td>\n",
       "      <td>Henry Street School for International Studies</td>\n",
       "      <td>1122</td>\n",
       "      <td>D</td>\n",
       "      <td>60.736364</td>\n",
       "    </tr>\n",
       "    <tr>\n",
       "      <th>1</th>\n",
       "      <td>01M448</td>\n",
       "      <td>University Neighborhood High School</td>\n",
       "      <td>1172</td>\n",
       "      <td>C</td>\n",
       "      <td>74.330952</td>\n",
       "    </tr>\n",
       "    <tr>\n",
       "      <th>2</th>\n",
       "      <td>01M450</td>\n",
       "      <td>East Side Community School</td>\n",
       "      <td>1149</td>\n",
       "      <td>A</td>\n",
       "      <td>77.004762</td>\n",
       "    </tr>\n",
       "    <tr>\n",
       "      <th>3</th>\n",
       "      <td>01M509</td>\n",
       "      <td>Marta Valle High School</td>\n",
       "      <td>1207</td>\n",
       "      <td>B</td>\n",
       "      <td>56.919048</td>\n",
       "    </tr>\n",
       "    <tr>\n",
       "      <th>4</th>\n",
       "      <td>01M539</td>\n",
       "      <td>New Explorations into Science, Technology and ...</td>\n",
       "      <td>1621</td>\n",
       "      <td>B</td>\n",
       "      <td>97.844444</td>\n",
       "    </tr>\n",
       "  </tbody>\n",
       "</table>\n",
       "</div>"
      ],
      "text/plain": [
       "      DBN                                             SCHOOL  combined_score  \\\n",
       "0  01M292      Henry Street School for International Studies            1122   \n",
       "1  01M448                University Neighborhood High School            1172   \n",
       "2  01M450                         East Side Community School            1149   \n",
       "3  01M509                            Marta Valle High School            1207   \n",
       "4  01M539  New Explorations into Science, Technology and ...            1621   \n",
       "\n",
       "  2009-2010 OVERALL GRADE  Total Grads   % of cohort  \n",
       "0                       D                  60.736364  \n",
       "1                       C                  74.330952  \n",
       "2                       A                  77.004762  \n",
       "3                       B                  56.919048  \n",
       "4                       B                  97.844444  "
      ]
     },
     "execution_count": 49,
     "metadata": {},
     "output_type": "execute_result"
    }
   ],
   "source": [
    "mergedDf.head()"
   ]
  },
  {
   "cell_type": "code",
   "execution_count": 50,
   "metadata": {},
   "outputs": [
    {
     "data": {
      "text/plain": [
       "['DBN',\n",
       " 'SCHOOL',\n",
       " 'combined_score',\n",
       " '2009-2010 OVERALL GRADE',\n",
       " 'Total Grads   % of cohort']"
      ]
     },
     "execution_count": 50,
     "metadata": {},
     "output_type": "execute_result"
    }
   ],
   "source": [
    "list(mergedDf)"
   ]
  },
  {
   "cell_type": "markdown",
   "metadata": {},
   "source": [
    "#### Training Preparation\n",
    "- Merge Graduation Rate for each high school\n",
    "- One hot encode Overall Grade "
   ]
  },
  {
   "cell_type": "markdown",
   "metadata": {},
   "source": [
    "#### One Hot Encode"
   ]
  },
  {
   "cell_type": "code",
   "execution_count": 51,
   "metadata": {},
   "outputs": [],
   "source": [
    "mergedDf = pd.concat([mergedDf,pd.get_dummies(mergedDf['2009-2010 OVERALL GRADE'], \n",
    "                                              prefix='GRADE')],axis=1)"
   ]
  },
  {
   "cell_type": "code",
   "execution_count": 52,
   "metadata": {},
   "outputs": [],
   "source": [
    "mergedDf = mergedDf.drop(['2009-2010 OVERALL GRADE'],axis=1)"
   ]
  },
  {
   "cell_type": "markdown",
   "metadata": {},
   "source": [
    "### Looking at Separable or Inseparable data"
   ]
  },
  {
   "cell_type": "code",
   "execution_count": 54,
   "metadata": {},
   "outputs": [],
   "source": [
    "#X_train[1:3]['Total Grads   % of cohort']"
   ]
  },
  {
   "cell_type": "markdown",
   "metadata": {},
   "source": [
    "### Training"
   ]
  },
  {
   "cell_type": "code",
   "execution_count": 257,
   "metadata": {},
   "outputs": [],
   "source": [
    "from sklearn.model_selection import train_test_split\n",
    "import torch\n",
    "import torch.nn as nn\n",
    "\n",
    "X_train, X_test, y_train, y_test = train_test_split(mergedDf[['Total Grads   % of cohort','combined_score']]\n",
    "                                                            , mergedDf[['GRADE_A',\n",
    "                                                                       'GRADE_B',\n",
    "                                                                      'GRADE_C',\n",
    "                                                                    'GRADE_D',\n",
    "                                                                    'GRADE_F']], \n",
    "                                                    test_size=0.3, random_state=42)\n",
    "X_train = torch.tensor(X_train.values,dtype=torch.float,device='cpu',)\n",
    "y_train = torch.tensor(y_train.values,dtype=torch.float,device='cpu')\n",
    "X_test = torch.tensor(X_test.values,dtype=torch.float,device='cpu')\n",
    "y_test = torch.tensor(y_test.values,dtype=torch.float,device='cpu')"
   ]
  },
  {
   "cell_type": "code",
   "execution_count": 258,
   "metadata": {},
   "outputs": [],
   "source": [
    "class Net(nn.Module):  \n",
    "    def __init__(self):\n",
    "        super(Net, self).__init__()\n",
    "        self.inputLayer = nn.Linear(2,5)\n",
    "        self.hidden = nn.Linear(5,5)\n",
    "        self.outputLayer = nn.Linear(5,5,bias=False)  \n",
    "    def forward(self,data):\n",
    "        data = self.inputLayer(data)\n",
    "        data = self.hidden(data)\n",
    "        data = torch.sigmoid(self.outputLayer(data))\n",
    "        return data"
   ]
  },
  {
   "cell_type": "code",
   "execution_count": 259,
   "metadata": {},
   "outputs": [],
   "source": [
    "def ourLoss(predicted,real):\n",
    "    return sum(((predicted - real)**2).flatten())"
   ]
  },
  {
   "cell_type": "code",
   "execution_count": 260,
   "metadata": {},
   "outputs": [],
   "source": [
    "neuralNet = Net()\n",
    "optimizer = torch.optim.Adam(neuralNet.parameters(), lr = 0.01)"
   ]
  },
  {
   "cell_type": "code",
   "execution_count": 261,
   "metadata": {
    "collapsed": true
   },
   "outputs": [
    {
     "name": "stdout",
     "output_type": "stream",
     "text": [
      "tensor(54974.6055, grad_fn=<AddBackward0>)\n",
      "tensor(54706.1250, grad_fn=<AddBackward0>)\n",
      "tensor(54413.1328, grad_fn=<AddBackward0>)\n",
      "tensor(54092.0039, grad_fn=<AddBackward0>)\n",
      "tensor(53740.4023, grad_fn=<AddBackward0>)\n",
      "tensor(53358.0664, grad_fn=<AddBackward0>)\n",
      "tensor(52945.0508, grad_fn=<AddBackward0>)\n",
      "tensor(52502.8945, grad_fn=<AddBackward0>)\n",
      "tensor(52033.2969, grad_fn=<AddBackward0>)\n",
      "tensor(51538.5391, grad_fn=<AddBackward0>)\n",
      "tensor(51022.0039, grad_fn=<AddBackward0>)\n",
      "tensor(50487.5742, grad_fn=<AddBackward0>)\n",
      "tensor(49939.8203, grad_fn=<AddBackward0>)\n",
      "tensor(49383.9531, grad_fn=<AddBackward0>)\n",
      "tensor(48825.5430, grad_fn=<AddBackward0>)\n",
      "tensor(48270.7383, grad_fn=<AddBackward0>)\n",
      "tensor(47725.0977, grad_fn=<AddBackward0>)\n",
      "tensor(47194.1055, grad_fn=<AddBackward0>)\n",
      "tensor(46682.6641, grad_fn=<AddBackward0>)\n",
      "tensor(46194.3516, grad_fn=<AddBackward0>)\n",
      "tensor(45731.9609, grad_fn=<AddBackward0>)\n",
      "tensor(45297.5234, grad_fn=<AddBackward0>)\n",
      "tensor(44891.3164, grad_fn=<AddBackward0>)\n",
      "tensor(44514.0898, grad_fn=<AddBackward0>)\n",
      "tensor(44166.0664, grad_fn=<AddBackward0>)\n",
      "tensor(43846.8359, grad_fn=<AddBackward0>)\n",
      "tensor(43556.7969, grad_fn=<AddBackward0>)\n",
      "tensor(43295.8594, grad_fn=<AddBackward0>)\n",
      "tensor(43063.8281, grad_fn=<AddBackward0>)\n",
      "tensor(42860.0820, grad_fn=<AddBackward0>)\n",
      "tensor(42683.6797, grad_fn=<AddBackward0>)\n",
      "tensor(42532.8203, grad_fn=<AddBackward0>)\n",
      "tensor(42405.6133, grad_fn=<AddBackward0>)\n",
      "tensor(42299.4180, grad_fn=<AddBackward0>)\n",
      "tensor(42211.7109, grad_fn=<AddBackward0>)\n",
      "tensor(42139.6328, grad_fn=<AddBackward0>)\n",
      "tensor(42080.9219, grad_fn=<AddBackward0>)\n",
      "tensor(42033.1875, grad_fn=<AddBackward0>)\n",
      "tensor(41994.4844, grad_fn=<AddBackward0>)\n",
      "tensor(41962.9688, grad_fn=<AddBackward0>)\n",
      "tensor(41937.6836, grad_fn=<AddBackward0>)\n",
      "tensor(41916.8828, grad_fn=<AddBackward0>)\n",
      "tensor(41899.9922, grad_fn=<AddBackward0>)\n",
      "tensor(41886.0742, grad_fn=<AddBackward0>)\n",
      "tensor(41874.5977, grad_fn=<AddBackward0>)\n",
      "tensor(41865.3516, grad_fn=<AddBackward0>)\n",
      "tensor(41857.3984, grad_fn=<AddBackward0>)\n",
      "tensor(41850.7891, grad_fn=<AddBackward0>)\n",
      "tensor(41845.3633, grad_fn=<AddBackward0>)\n",
      "tensor(41840.7305, grad_fn=<AddBackward0>)\n",
      "tensor(41836.7852, grad_fn=<AddBackward0>)\n",
      "tensor(41833.4805, grad_fn=<AddBackward0>)\n",
      "tensor(41830.5156, grad_fn=<AddBackward0>)\n",
      "tensor(41827.9883, grad_fn=<AddBackward0>)\n",
      "tensor(41825.7773, grad_fn=<AddBackward0>)\n",
      "tensor(41823.8516, grad_fn=<AddBackward0>)\n",
      "tensor(41822.2656, grad_fn=<AddBackward0>)\n",
      "tensor(41820.8711, grad_fn=<AddBackward0>)\n",
      "tensor(41819.5273, grad_fn=<AddBackward0>)\n",
      "tensor(41818.4414, grad_fn=<AddBackward0>)\n",
      "tensor(41817.4648, grad_fn=<AddBackward0>)\n",
      "tensor(41816.6055, grad_fn=<AddBackward0>)\n",
      "tensor(41815.7734, grad_fn=<AddBackward0>)\n",
      "tensor(41815.0312, grad_fn=<AddBackward0>)\n",
      "tensor(41814.3750, grad_fn=<AddBackward0>)\n",
      "tensor(41813.8438, grad_fn=<AddBackward0>)\n",
      "tensor(41813.2695, grad_fn=<AddBackward0>)\n",
      "tensor(41812.7852, grad_fn=<AddBackward0>)\n",
      "tensor(41812.3398, grad_fn=<AddBackward0>)\n",
      "tensor(41811.9414, grad_fn=<AddBackward0>)\n",
      "tensor(41811.5664, grad_fn=<AddBackward0>)\n",
      "tensor(41811.2305, grad_fn=<AddBackward0>)\n",
      "tensor(41810.8789, grad_fn=<AddBackward0>)\n",
      "tensor(41810.5820, grad_fn=<AddBackward0>)\n",
      "tensor(41810.2852, grad_fn=<AddBackward0>)\n",
      "tensor(41810.0352, grad_fn=<AddBackward0>)\n",
      "tensor(41809.8398, grad_fn=<AddBackward0>)\n",
      "tensor(41809.6211, grad_fn=<AddBackward0>)\n",
      "tensor(41809.4297, grad_fn=<AddBackward0>)\n",
      "tensor(41809.1797, grad_fn=<AddBackward0>)\n",
      "tensor(41809.0078, grad_fn=<AddBackward0>)\n",
      "tensor(41808.8281, grad_fn=<AddBackward0>)\n",
      "tensor(41808.6680, grad_fn=<AddBackward0>)\n",
      "tensor(41808.5234, grad_fn=<AddBackward0>)\n",
      "tensor(41808.3789, grad_fn=<AddBackward0>)\n",
      "tensor(41808.2383, grad_fn=<AddBackward0>)\n",
      "tensor(41808.1133, grad_fn=<AddBackward0>)\n",
      "tensor(41807.9766, grad_fn=<AddBackward0>)\n",
      "tensor(41807.8359, grad_fn=<AddBackward0>)\n",
      "tensor(41807.7148, grad_fn=<AddBackward0>)\n",
      "tensor(41807.5898, grad_fn=<AddBackward0>)\n",
      "tensor(41807.4844, grad_fn=<AddBackward0>)\n",
      "tensor(41807.3750, grad_fn=<AddBackward0>)\n",
      "tensor(41807.2695, grad_fn=<AddBackward0>)\n",
      "tensor(41807.1523, grad_fn=<AddBackward0>)\n",
      "tensor(41807.0469, grad_fn=<AddBackward0>)\n",
      "tensor(41806.9336, grad_fn=<AddBackward0>)\n",
      "tensor(41806.8477, grad_fn=<AddBackward0>)\n",
      "tensor(41806.7695, grad_fn=<AddBackward0>)\n",
      "tensor(41806.6797, grad_fn=<AddBackward0>)\n",
      "Finished Training!\n"
     ]
    }
   ],
   "source": [
    "error = []\n",
    "epoch = 100\n",
    "for i in range(epoch):\n",
    "    # zero the parameter gradients\n",
    "    optimizer.zero_grad()\n",
    "    # forward + backward + optimize\n",
    "    output = neuralNet(X_a)\n",
    "    loss = ourLoss(output,y_a)\n",
    "    print(loss)\n",
    "    #print(list(neuralNet.parameters())[0].grad)\n",
    "    #print(list(neuralNet.parameters())[0][0])\n",
    "    error.append(loss)\n",
    "    loss.backward()\n",
    "    #import pdb; pdb.set_trace()\n",
    "    # start debugger\n",
    "    \n",
    "    #print(loss)\n",
    "    optimizer.step()\n",
    "    #print(\"iter -----------------\",i)\n",
    "print('Finished Training!')"
   ]
  },
  {
   "cell_type": "markdown",
   "metadata": {},
   "source": [
    "- Plot error "
   ]
  },
  {
   "cell_type": "code",
   "execution_count": 262,
   "metadata": {},
   "outputs": [
    {
     "data": {
      "image/png": "[encoded data removed]",
      "text/plain": [
       "<Figure size 432x288 with 1 Axes>"
      ]
     },
     "metadata": {
      "needs_background": "light"
     },
     "output_type": "display_data"
    }
   ],
   "source": [
    "plt.plot(np.arange(0,epoch,1),error);\n",
    "plt.xlabel(\"Epoch\"); plt.ylabel(\"Loss\");"
   ]
  },
  {
   "cell_type": "code",
   "execution_count": 266,
   "metadata": {},
   "outputs": [
    {
     "name": "stdout",
     "output_type": "stream",
     "text": [
      "tensor([0.9998, 0.9996, 0.9998, 0.9999, 0.9983], grad_fn=<SelectBackward>)\n",
      "tensor([1., 0., 0., 0., 0.])\n"
     ]
    }
   ],
   "source": [
    "test_idx = 10\n",
    "print(output[test_idx])\n",
    "print(y_train[test_idx])"
   ]
  },
  {
   "cell_type": "markdown",
   "metadata": {},
   "source": [
    "### Testing"
   ]
  },
  {
   "cell_type": "markdown",
   "metadata": {},
   "source": [
    "- Plot accuracy graph\n",
    "- Hyperparameter search "
   ]
  },
  {
   "cell_type": "code",
   "execution_count": 278,
   "metadata": {},
   "outputs": [],
   "source": [
    "neuralNet.eval()\n",
    "testOutput = neuralNet(X_test)"
   ]
  }
 ],
 "metadata": {
  "kernelspec": {
   "display_name": "Python 3",
   "language": "python",
   "name": "python3"
  },
  "language_info": {
   "codemirror_mode": {
    "name": "ipython",
    "version": 3
   },
   "file_extension": ".py",
   "mimetype": "text/x-python",
   "name": "python",
   "nbconvert_exporter": "python",
   "pygments_lexer": "ipython3",
   "version": "3.6.5"
  }
 },
 "nbformat": 4,
 "nbformat_minor": 2
}
