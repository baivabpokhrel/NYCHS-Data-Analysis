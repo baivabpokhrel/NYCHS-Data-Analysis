{
 "cells": [
  {
   "cell_type": "code",
   "execution_count": 1,
   "metadata": {},
   "outputs": [],
   "source": [
    "import sys\n",
    "sys.path.append(\"..\")"
   ]
  },
  {
   "cell_type": "code",
   "execution_count": 2,
   "metadata": {},
   "outputs": [],
   "source": [
    "import pandas as pd\n",
    "import numpy as np\n",
    "import seaborn as sns\n",
    "from datasets import *"
   ]
  },
  {
   "cell_type": "code",
   "execution_count": 3,
   "metadata": {},
   "outputs": [],
   "source": [
    "graduationDistrictDf = get_Graduation(filterBy='district')"
   ]
  },
  {
   "cell_type": "code",
   "execution_count": 4,
   "metadata": {},
   "outputs": [
    {
     "data": {
      "text/plain": [
       "['District',\n",
       " 'Cohort Year',\n",
       " 'Cohort Category',\n",
       " 'Total Cohort #',\n",
       " 'Total Grads #',\n",
       " 'Total Grads % of cohort',\n",
       " 'Total Regents #',\n",
       " 'Total Regents % of cohort',\n",
       " 'Total Regents % of grads',\n",
       " 'Advanced Regents #',\n",
       " 'Advanced Regents % of cohort',\n",
       " 'Advanced Regents % of grads',\n",
       " 'Regents w/o Advanced #',\n",
       " 'Regents w/o Advanced      % of cohort',\n",
       " 'Regents w/o Advanced           % of grads',\n",
       " 'Local #',\n",
       " 'Local % of cohort',\n",
       " 'Local % of grads',\n",
       " 'Still Enrolled #',\n",
       " 'Still Enrolled % of cohort',\n",
       " 'Dropped Out #',\n",
       " 'Dropped Out % of cohort']"
      ]
     },
     "execution_count": 4,
     "metadata": {},
     "output_type": "execute_result"
    }
   ],
   "source": [
    "list(graduationDistrictDf)"
   ]
  },
  {
   "cell_type": "code",
   "execution_count": 5,
   "metadata": {},
   "outputs": [
    {
     "data": {
      "text/plain": [
       "District                                     0\n",
       "Cohort Year                                  0\n",
       "Cohort Category                              0\n",
       "Total Cohort #                               0\n",
       "Total Grads #                                0\n",
       "Total Grads % of cohort                      0\n",
       "Total Regents #                              0\n",
       "Total Regents % of cohort                    0\n",
       "Total Regents % of grads                     0\n",
       "Advanced Regents #                           0\n",
       "Advanced Regents % of cohort                 0\n",
       "Advanced Regents % of grads                  0\n",
       "Regents w/o Advanced #                       0\n",
       "Regents w/o Advanced      % of cohort        0\n",
       "Regents w/o Advanced           % of grads    0\n",
       "Local #                                      0\n",
       "Local % of cohort                            0\n",
       "Local % of grads                             0\n",
       "Still Enrolled #                             0\n",
       "Still Enrolled % of cohort                   0\n",
       "Dropped Out #                                0\n",
       "Dropped Out % of cohort                      0\n",
       "dtype: int64"
      ]
     },
     "execution_count": 5,
     "metadata": {},
     "output_type": "execute_result"
    }
   ],
   "source": [
    "graduationDistrictDf.isna().sum()"
   ]
  },
  {
   "cell_type": "markdown",
   "metadata": {},
   "source": [
    "## Focusing on Year 2010"
   ]
  },
  {
   "cell_type": "code",
   "execution_count": 6,
   "metadata": {},
   "outputs": [],
   "source": [
    "importantColumns = ['District','Cohort Year','Total Cohort #','Total Grads #','Total Grads % of cohort',\n",
    "                   'Still Enrolled #','Still Enrolled % of cohort','Dropped Out #','Dropped Out % of cohort'] \n",
    "graduationDistrictDfFilterBy2010 = graduationDistrictDf[graduationDistrictDf['Cohort Year']==2010][importantColumns]\n",
    "\n"
   ]
  },
  {
   "cell_type": "markdown",
   "metadata": {},
   "source": [
    "Do high school graduation rates with district demographic"
   ]
  },
  {
   "cell_type": "markdown",
   "metadata": {},
   "source": [
    "## Which district has the highest graduation and highest drop out in year 2010?"
   ]
  },
  {
   "cell_type": "code",
   "execution_count": 7,
   "metadata": {},
   "outputs": [],
   "source": [
    "graduationRateFiltered = graduationDistrictDfFilterBy2010.groupby('District',as_index=False).mean() \\\n",
    ".sort_values(['Total Grads % of cohort'],ascending=False)"
   ]
  },
  {
   "cell_type": "code",
   "execution_count": 8,
   "metadata": {},
   "outputs": [
    {
     "data": {
      "text/plain": [
       "<matplotlib.axes._subplots.AxesSubplot at 0x105a3f198>"
      ]
     },
     "execution_count": 8,
     "metadata": {},
     "output_type": "execute_result"
    },
    {
     "data": {
      "image/png": "[encoded data removed]",
      "text/plain": [
       "<Figure size 432x288 with 1 Axes>"
      ]
     },
     "metadata": {
      "needs_background": "light"
     },
     "output_type": "display_data"
    }
   ],
   "source": [
    "NUM_OF_DISTRICT_BAR_PLOT = 5\n",
    "sns.barplot(x=graduationRateFiltered[:NUM_OF_DISTRICT_BAR_PLOT]['District'],\n",
    "            y=graduationRateFiltered[:NUM_OF_DISTRICT_BAR_PLOT]['Total Grads % of cohort'],\n",
    "            order=graduationRateFiltered[:NUM_OF_DISTRICT_BAR_PLOT]['District'])"
   ]
  },
  {
   "cell_type": "markdown",
   "metadata": {},
   "source": [
    "### What are some schools in District 13?"
   ]
  },
  {
   "cell_type": "code",
   "execution_count": 9,
   "metadata": {},
   "outputs": [
    {
     "data": {
      "text/plain": [
       "['DR. SUSAN S. MCKINNEY SECONDARY SCHOOL OF THE ARTS',\n",
       " 'ACADEMY OF BUSINESS AND COMMUNITY DEVELOPMENT',\n",
       " 'URBAN ASSEMBLY HIGH SCHOOL OF MUSIC AND ART',\n",
       " 'BROOKLYN COMMUNITY HIGH SCHOOL OF COMMUNICATION, ARTS AND MEDIA',\n",
       " 'SCIENCE SKILLS CENTER HIGH SCHOOL FOR SCIENCE, TECHNOLOGY AND THE CREATIVE ARTS',\n",
       " 'BROOKLYN TECHNICAL HIGH SCHOOL',\n",
       " 'BROOKLYN INTERNATIONAL HIGH SCHOOL',\n",
       " 'THE URBAN ASSEMBLY SCHOOL FOR LAW AND JUSTICE',\n",
       " 'ACORN COMMUNITY HIGH SCHOOL',\n",
       " 'FREEDOM ACADEMY HIGH SCHOOL',\n",
       " 'URBAN ASSEMBLY INSTITUTE OF MATH AND SCIENCE FOR YOUNG WOMEN',\n",
       " 'BROOKLYN ACADEMY HIGH SCHOOL',\n",
       " 'BEDFORD STUYVESANT PREPARATORY HIGH SCHOOL',\n",
       " 'BEDFORD ACADEMY HIGH SCHOOL',\n",
       " 'GEORGE WESTINGHOUSE CAREER AND TECHNICAL EDUCATION HIGH SCHOOL',\n",
       " 'BROOKLYN HIGH SCHOOL FOR LEADERSHIP AND COMMUNITY SERVICE',\n",
       " 'BENJAMIN BANNEKER ACADEMY',\n",
       " 'CITY POLYTECHNIC HIGH SCHOOL OF ENGINEERING, ARCHITECTURE, AND TECHNOLOGY']"
      ]
     },
     "execution_count": 9,
     "metadata": {},
     "output_type": "execute_result"
    }
   ],
   "source": [
    "get_SchoolsByDistrict(13)"
   ]
  },
  {
   "cell_type": "markdown",
   "metadata": {},
   "source": [
    "**Should we filter out specialized HS?**"
   ]
  },
  {
   "cell_type": "code",
   "execution_count": 10,
   "metadata": {},
   "outputs": [],
   "source": [
    "dropOutRateFiltered = graduationDistrictDfFilterBy2010.groupby('District',as_index=False).mean() \\\n",
    ".sort_values(['Dropped Out % of cohort'],ascending=False)"
   ]
  },
  {
   "cell_type": "code",
   "execution_count": 11,
   "metadata": {},
   "outputs": [
    {
     "data": {
      "text/plain": [
       "<matplotlib.axes._subplots.AxesSubplot at 0x105aebb70>"
      ]
     },
     "execution_count": 11,
     "metadata": {},
     "output_type": "execute_result"
    },
    {
     "data": {
      "image/png": "[encoded data removed]",
      "text/plain": [
       "<Figure size 432x288 with 1 Axes>"
      ]
     },
     "metadata": {
      "needs_background": "light"
     },
     "output_type": "display_data"
    }
   ],
   "source": [
    "sns.barplot(x=dropOutRateFiltered[:NUM_OF_DISTRICT_BAR_PLOT]['District'],\n",
    "            y=dropOutRateFiltered[:NUM_OF_DISTRICT_BAR_PLOT]['Dropped Out % of cohort'],\n",
    "           order=dropOutRateFiltered[:NUM_OF_DISTRICT_BAR_PLOT]['District'])"
   ]
  },
  {
   "cell_type": "markdown",
   "metadata": {},
   "source": [
    "### What are some schools in District 8?"
   ]
  },
  {
   "cell_type": "code",
   "execution_count": 12,
   "metadata": {},
   "outputs": [
    {
     "data": {
      "text/plain": [
       "['BRONX STUDIO SCHOOL FOR WRITERS AND ARTISTS',\n",
       " \"WOMEN'S ACADEMY OF EXCELLENCE\",\n",
       " 'RENAISSANCE HIGH SCHOOL FOR MUSICAL THEATER & TECHNOLOGY',\n",
       " 'GATEWAY SCHOOL FOR ENVIRONMENTAL RESEARCH AND TECHNOLOGY',\n",
       " 'PABLO NERUDA ACADEMY FOR ARCHITECTURE AND WORLD STUDIES',\n",
       " 'MILLENNIUM ART ACADEMY',\n",
       " 'HOLCOMBE L. RUCKER SCHOOL OF COMMUNITY RESEARCH',\n",
       " 'ARCHIMEDES ACADEMY FOR MATH, SCIENCE AND TECHNOLOGY APPLICATIONS',\n",
       " 'ANTONIA PANTOJA PREPARATORY ACADEMY, A COLLEGE BOARD SCHOOL',\n",
       " 'BRONX COMMUNITY HIGH SCHOOL',\n",
       " 'HERBERT H. LEHMAN HIGH SCHOOL',\n",
       " 'HERBERT H. LEHMAN YABC',\n",
       " 'BRONX BRIDGES HIGH SCHOOL',\n",
       " 'BRONX GUILD',\n",
       " 'STEVENSON YABC',\n",
       " 'FELISA RINCON DE GAUTIER INSTITUTE FOR LAW AND PUBLIC POLICY, THE',\n",
       " 'BANANA KELLY HIGH SCHOOL',\n",
       " 'BRONX ARENA HIGH SCHOOL',\n",
       " 'SCHOOL FOR COMMUNITY RESEARCH AND LEARNING',\n",
       " 'HIGH SCHOOL X560 s BRONX ACADEMY HIGH SCHOOL',\n",
       " 'JANE ADDAMS HIGH SCHOOL FOR ACADEMIC CAREERS']"
      ]
     },
     "execution_count": 12,
     "metadata": {},
     "output_type": "execute_result"
    }
   ],
   "source": [
    "get_SchoolsByDistrict(8)"
   ]
  },
  {
   "cell_type": "markdown",
   "metadata": {},
   "source": [
    "## Looking at Demographic"
   ]
  },
  {
   "cell_type": "code",
   "execution_count": 13,
   "metadata": {},
   "outputs": [],
   "source": [
    "graduationDemographicDf= get_Graduation('demographic')"
   ]
  },
  {
   "cell_type": "code",
   "execution_count": 14,
   "metadata": {},
   "outputs": [
    {
     "data": {
      "text/plain": [
       "['Cohort Year',\n",
       " 'Cohort Category',\n",
       " 'Demographic',\n",
       " '# Total Cohort',\n",
       " '# Total Grads',\n",
       " '% of cohort Total Grads',\n",
       " '# of cohort Total Grads',\n",
       " '% of cohort Total Regents',\n",
       " '% of grads  Total Regents',\n",
       " '# of grads  Total Regents',\n",
       " '% of cohort  Advanced Regents',\n",
       " '% of grads  Advanced Regents',\n",
       " '# of grads  Advanced Regents',\n",
       " '% of cohort  Regents w/o Advanced',\n",
       " '% of grads  Regents w/o Advanced',\n",
       " '# of grads  Regents w/o Advanced',\n",
       " '% of cohort Local',\n",
       " '% of grads Local',\n",
       " '# Still Enrolled',\n",
       " '% of cohort Still Enrolled',\n",
       " '# Dropped Out',\n",
       " '% of cohort Dropped Out']"
      ]
     },
     "execution_count": 14,
     "metadata": {},
     "output_type": "execute_result"
    }
   ],
   "source": [
    "list(graduationDemographicDf)"
   ]
  },
  {
   "cell_type": "code",
   "execution_count": 15,
   "metadata": {},
   "outputs": [],
   "source": [
    "graduationDemographicDfFilterBy2010 = graduationDemographicDf[graduationDemographicDf['Cohort Year']==2010]"
   ]
  },
  {
   "cell_type": "markdown",
   "metadata": {},
   "source": [
    "### Male vs Female Graduation Rate"
   ]
  },
  {
   "cell_type": "code",
   "execution_count": 16,
   "metadata": {},
   "outputs": [],
   "source": [
    "maleGradRate = graduationDemographicDfFilterBy2010[graduationDemographicDfFilterBy2010['Demographic']=='Male']\n",
    "femaleGradRate = graduationDemographicDfFilterBy2010[graduationDemographicDfFilterBy2010['Demographic']=='Female']"
   ]
  },
  {
   "cell_type": "code",
   "execution_count": 17,
   "metadata": {},
   "outputs": [
    {
     "data": {
      "text/plain": [
       "<matplotlib.axes._subplots.AxesSubplot at 0x12439c278>"
      ]
     },
     "execution_count": 17,
     "metadata": {},
     "output_type": "execute_result"
    },
    {
     "data": {
      "image/png": "[encoded data removed]",
      "text/plain": [
       "<Figure size 432x288 with 1 Axes>"
      ]
     },
     "metadata": {
      "needs_background": "light"
     },
     "output_type": "display_data"
    }
   ],
   "source": [
    "sns.barplot(x=['Male','Female'],\n",
    "            y=[maleGradRate['% of cohort Total Grads'].mean(),femaleGradRate['% of cohort Total Grads'].mean()])"
   ]
  },
  {
   "cell_type": "markdown",
   "metadata": {},
   "source": [
    "Female graduated more than Male in year 2010."
   ]
  },
  {
   "cell_type": "markdown",
   "metadata": {},
   "source": [
    "### Drop Out and Graduation Rate for Different Demographics"
   ]
  },
  {
   "cell_type": "code",
   "execution_count": 18,
   "metadata": {},
   "outputs": [
    {
     "data": {
      "text/plain": [
       "array(['English Language Learner', 'Male', 'English Language Proficient',\n",
       "       'Not Student with Disability', 'Student with Disability', 'Asian',\n",
       "       'Black', 'Hispanic', 'White', 'Female'], dtype=object)"
      ]
     },
     "execution_count": 18,
     "metadata": {},
     "output_type": "execute_result"
    }
   ],
   "source": [
    "graduationDemographicDf['Demographic'].unique()"
   ]
  },
  {
   "cell_type": "code",
   "execution_count": 19,
   "metadata": {},
   "outputs": [],
   "source": [
    "asianGraduationDemographicDf = graduationDemographicDfFilterBy2010[graduationDemographicDfFilterBy2010['Demographic']=='Asian']\n",
    "blackGraduationDemographicDf = graduationDemographicDfFilterBy2010[graduationDemographicDfFilterBy2010['Demographic']=='Black']\n",
    "hispanicGraduationDemographicDf = graduationDemographicDfFilterBy2010[graduationDemographicDfFilterBy2010['Demographic']=='Hispanic']\n",
    "whiteGraduationDemographicDf = graduationDemographicDfFilterBy2010[graduationDemographicDfFilterBy2010['Demographic']=='White']\n"
   ]
  },
  {
   "cell_type": "code",
   "execution_count": 20,
   "metadata": {},
   "outputs": [
    {
     "data": {
      "image/png": "[encoded data removed]",
      "text/plain": [
       "<Figure size 432x288 with 1 Axes>"
      ]
     },
     "metadata": {
      "needs_background": "light"
     },
     "output_type": "display_data"
    }
   ],
   "source": [
    "ax = sns.barplot(y=['Asian','Black','Hispanic','White'],\n",
    "            x=[asianGraduationDemographicDf['% of cohort Dropped Out'].mean(),\n",
    "               blackGraduationDemographicDf['% of cohort Dropped Out'].mean(),\n",
    "               hispanicGraduationDemographicDf['% of cohort Dropped Out'].mean(),\n",
    "               whiteGraduationDemographicDf['% of cohort Dropped Out'].mean()\n",
    "              ]);\n",
    "ax.set(xlabel='Dropout %');"
   ]
  },
  {
   "cell_type": "code",
   "execution_count": 21,
   "metadata": {},
   "outputs": [
    {
     "data": {
      "image/png": "[encoded data removed]",
      "text/plain": [
       "<Figure size 432x288 with 1 Axes>"
      ]
     },
     "metadata": {
      "needs_background": "light"
     },
     "output_type": "display_data"
    }
   ],
   "source": [
    "ax = sns.barplot(y=['Asian','Black','Hispanic','White'],\n",
    "            x=[asianGraduationDemographicDf['% of cohort Total Grads'].mean(),\n",
    "               blackGraduationDemographicDf['% of cohort Total Grads'].mean(),\n",
    "               hispanicGraduationDemographicDf['% of cohort Total Grads'].mean(),\n",
    "               whiteGraduationDemographicDf['% of cohort Total Grads'].mean()\n",
    "              ]);\n",
    "ax.set(xlabel='Graduation %');"
   ]
  },
  {
   "cell_type": "markdown",
   "metadata": {},
   "source": [
    "## High School Rating Prediction "
   ]
  },
  {
   "cell_type": "markdown",
   "metadata": {},
   "source": [
    "### Preparing data"
   ]
  },
  {
   "cell_type": "code",
   "execution_count": 16,
   "metadata": {},
   "outputs": [],
   "source": [
    "highSchoolGradeDf = get_SchoolGrade()"
   ]
  },
  {
   "cell_type": "code",
   "execution_count": 73,
   "metadata": {},
   "outputs": [],
   "source": [
    "highSchoolGradeDf.dropna(inplace=True)"
   ]
  },
  {
   "cell_type": "markdown",
   "metadata": {},
   "source": [
    "#### We can move all these simple data preprocessing into the datasets.py script"
   ]
  },
  {
   "cell_type": "code",
   "execution_count": 74,
   "metadata": {},
   "outputs": [
    {
     "data": {
      "text/plain": [
       "['DBN', 'DISTRICT', 'SCHOOL', '2009-2010 OVERALL GRADE']"
      ]
     },
     "execution_count": 74,
     "metadata": {},
     "output_type": "execute_result"
    }
   ],
   "source": [
    "list(highSchoolGradeDf)"
   ]
  },
  {
   "cell_type": "code",
   "execution_count": 75,
   "metadata": {},
   "outputs": [],
   "source": [
    "satDf = get_SATScores()"
   ]
  },
  {
   "cell_type": "code",
   "execution_count": 76,
   "metadata": {},
   "outputs": [],
   "source": [
    "satDf = satDf[satDf!='s']"
   ]
  },
  {
   "cell_type": "code",
   "execution_count": 77,
   "metadata": {},
   "outputs": [],
   "source": [
    "satDf.dropna(inplace=True)"
   ]
  },
  {
   "cell_type": "code",
   "execution_count": 78,
   "metadata": {},
   "outputs": [],
   "source": [
    "satDf.sat_critical_reading_avg_score = satDf.sat_critical_reading_avg_score.astype('int')\n",
    "satDf.sat_math_avg_score = satDf.sat_math_avg_score.astype('int')\n",
    "satDf.sat_writing_avg_score = satDf.sat_writing_avg_score.astype('int')"
   ]
  },
  {
   "cell_type": "code",
   "execution_count": 79,
   "metadata": {},
   "outputs": [],
   "source": [
    "satDf['combined_score'] = satDf['sat_critical_reading_avg_score'].astype('int')+satDf['sat_math_avg_score']+satDf['sat_writing_avg_score']\n",
    "satDf = satDf[['dbn','school_name','combined_score']]"
   ]
  },
  {
   "cell_type": "code",
   "execution_count": 80,
   "metadata": {},
   "outputs": [],
   "source": [
    "mergedDf = pd.merge(highSchoolGradeDf,satDf,left_on='DBN',right_on='dbn')"
   ]
  },
  {
   "cell_type": "code",
   "execution_count": 81,
   "metadata": {},
   "outputs": [],
   "source": [
    "mergedDf = mergedDf[['DBN','SCHOOL','combined_score','2009-2010 OVERALL GRADE']]"
   ]
  },
  {
   "cell_type": "code",
   "execution_count": 86,
   "metadata": {},
   "outputs": [
    {
     "data": {
      "text/html": [
       "<div>\n",
       "<style scoped>\n",
       "    .dataframe tbody tr th:only-of-type {\n",
       "        vertical-align: middle;\n",
       "    }\n",
       "\n",
       "    .dataframe tbody tr th {\n",
       "        vertical-align: top;\n",
       "    }\n",
       "\n",
       "    .dataframe thead th {\n",
       "        text-align: right;\n",
       "    }\n",
       "</style>\n",
       "<table border=\"1\" class=\"dataframe\">\n",
       "  <thead>\n",
       "    <tr style=\"text-align: right;\">\n",
       "      <th></th>\n",
       "      <th>DBN</th>\n",
       "      <th>SCHOOL</th>\n",
       "      <th>combined_score</th>\n",
       "      <th>2009-2010 OVERALL GRADE</th>\n",
       "    </tr>\n",
       "  </thead>\n",
       "  <tbody>\n",
       "    <tr>\n",
       "      <th>0</th>\n",
       "      <td>01M292</td>\n",
       "      <td>Henry Street School for International Studies</td>\n",
       "      <td>1122</td>\n",
       "      <td>D</td>\n",
       "    </tr>\n",
       "    <tr>\n",
       "      <th>1</th>\n",
       "      <td>01M448</td>\n",
       "      <td>University Neighborhood High School</td>\n",
       "      <td>1172</td>\n",
       "      <td>C</td>\n",
       "    </tr>\n",
       "    <tr>\n",
       "      <th>2</th>\n",
       "      <td>01M450</td>\n",
       "      <td>East Side Community School</td>\n",
       "      <td>1149</td>\n",
       "      <td>A</td>\n",
       "    </tr>\n",
       "    <tr>\n",
       "      <th>3</th>\n",
       "      <td>01M509</td>\n",
       "      <td>Marta Valle High School</td>\n",
       "      <td>1207</td>\n",
       "      <td>B</td>\n",
       "    </tr>\n",
       "    <tr>\n",
       "      <th>4</th>\n",
       "      <td>01M539</td>\n",
       "      <td>New Explorations into Science, Technology and ...</td>\n",
       "      <td>1621</td>\n",
       "      <td>B</td>\n",
       "    </tr>\n",
       "  </tbody>\n",
       "</table>\n",
       "</div>"
      ],
      "text/plain": [
       "      DBN                                             SCHOOL  combined_score  \\\n",
       "0  01M292      Henry Street School for International Studies            1122   \n",
       "1  01M448                University Neighborhood High School            1172   \n",
       "2  01M450                         East Side Community School            1149   \n",
       "3  01M509                            Marta Valle High School            1207   \n",
       "4  01M539  New Explorations into Science, Technology and ...            1621   \n",
       "\n",
       "  2009-2010 OVERALL GRADE  \n",
       "0                       D  \n",
       "1                       C  \n",
       "2                       A  \n",
       "3                       B  \n",
       "4                       B  "
      ]
     },
     "execution_count": 86,
     "metadata": {},
     "output_type": "execute_result"
    }
   ],
   "source": [
    "mergedDf.head()"
   ]
  },
  {
   "cell_type": "markdown",
   "metadata": {},
   "source": [
    "#### Training Preparation\n",
    "- Merge Graduation Rate for each high school\n",
    "- One hot encode Overall Grade "
   ]
  },
  {
   "cell_type": "markdown",
   "metadata": {},
   "source": [
    "### Training"
   ]
  },
  {
   "cell_type": "code",
   "execution_count": null,
   "metadata": {},
   "outputs": [],
   "source": []
  },
  {
   "cell_type": "markdown",
   "metadata": {},
   "source": [
    "- Plot error "
   ]
  },
  {
   "cell_type": "markdown",
   "metadata": {},
   "source": [
    "### Testing"
   ]
  },
  {
   "cell_type": "markdown",
   "metadata": {},
   "source": [
    "- Plot accuracy graph\n",
    "- Hyperparameter search "
   ]
  },
  {
   "cell_type": "code",
   "execution_count": null,
   "metadata": {},
   "outputs": [],
   "source": []
  },
  {
   "cell_type": "markdown",
   "metadata": {},
   "source": [
    "## TODO Plan:  \n",
    "- Connect Demographic to SAT Score datasets\n",
    "- High School Grading prediction based on Graduation rate/ attendance/ SAT scores \n"
   ]
  },
  {
   "cell_type": "markdown",
   "metadata": {},
   "source": [
    "https://data.cityofnewyork.us/Education/2009-2010-School-Progress-Reports-All-Schools/ffnc-f3aa"
   ]
  },
  {
   "cell_type": "code",
   "execution_count": null,
   "metadata": {},
   "outputs": [],
   "source": []
  }
 ],
 "metadata": {
  "kernelspec": {
   "display_name": "Python 3",
   "language": "python",
   "name": "python3"
  },
  "language_info": {
   "codemirror_mode": {
    "name": "ipython",
    "version": 3
   },
   "file_extension": ".py",
   "mimetype": "text/x-python",
   "name": "python",
   "nbconvert_exporter": "python",
   "pygments_lexer": "ipython3",
   "version": "3.6.5"
  }
 },
 "nbformat": 4,
 "nbformat_minor": 2
}
